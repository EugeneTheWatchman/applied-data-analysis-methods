{
 "cells": [
  {
   "cell_type": "markdown",
   "metadata": {
    "id": "cLlxMDdloHUC"
   },
   "source": [
    "1) Иерархический Кластерный Анализ\n",
    "\n",
    "    1) Импорт Библиотек: Необходимо импортировать требуемые библиотеки.  \n",
    "    1) Просмотр Данных: Ознакомление с заголовками и содержимым набора данных.  \n",
    "    1) Кластеризация: Применение иерархической кластеризации с помощью команды linkage.\n",
    "    1) Анализ Результатов: Просмотр содержимого объекта link, который представляет результаты слияния кластеров.\n",
    "    1) Вывод Дендрограммы: Отображение дендрограммы с помощью функции dendrogram.\n",
    "    1) Анализ Кластеров: Вычисление среднего значения по каждому кластеру и определение количества наблюдений в каждом кластере.\n",
    "\n",
    "2) Метод К-средних\n",
    "\n",
    "    1) Импорт Библиотек: Аналогично первой части, необходим импорт библиотек.\n",
    "    2) Просмотр Данных: Ознакомление с данными, как и в первой части.\n",
    "    2) Кластеризация (K=2): Применение метода К-средних для двух кластеров.\n",
    "    2) Инициализация и Подгонка Модели: Инициализация модели KMeans и подгонка модели по данным.\n",
    "    2) Анализ Результатов: Просмотр результатов кластеризации, координат центров кластеров.\n",
    "    2) Предсказание для Новых Наблюдений: Определение принадлежности новых наблюдений к кластерам."
   ]
  },
  {
   "cell_type": "markdown",
   "metadata": {},
   "source": [
    "## Импорт библиотек и просмотр заголовков  и содержимого набора данных \n",
    "\n",
    "Cтолбец numb.obs является индексным, поэтому определяем его соответветствующим в pandas.DataFrame"
   ]
  },
  {
   "cell_type": "code",
   "execution_count": 1,
   "metadata": {
    "colab": {
     "base_uri": "https://localhost:8080/",
     "height": 206
    },
    "id": "n0aBCaISn7MS",
    "outputId": "513b270c-be31-4b23-b012-fbbb19a63228"
   },
   "outputs": [
    {
     "data": {
      "text/html": [
       "<div>\n",
       "<style scoped>\n",
       "    .dataframe tbody tr th:only-of-type {\n",
       "        vertical-align: middle;\n",
       "    }\n",
       "\n",
       "    .dataframe tbody tr th {\n",
       "        vertical-align: top;\n",
       "    }\n",
       "\n",
       "    .dataframe thead th {\n",
       "        text-align: right;\n",
       "    }\n",
       "</style>\n",
       "<table border=\"1\" class=\"dataframe\">\n",
       "  <thead>\n",
       "    <tr style=\"text-align: right;\">\n",
       "      <th></th>\n",
       "      <th>COKE</th>\n",
       "      <th>D_COKE</th>\n",
       "      <th>D_PEPSI</th>\n",
       "      <th>D_7UP</th>\n",
       "      <th>PEPSI</th>\n",
       "      <th>SPRITE</th>\n",
       "      <th>TAB</th>\n",
       "      <th>SEVENUP</th>\n",
       "    </tr>\n",
       "    <tr>\n",
       "      <th>numb.obs</th>\n",
       "      <th></th>\n",
       "      <th></th>\n",
       "      <th></th>\n",
       "      <th></th>\n",
       "      <th></th>\n",
       "      <th></th>\n",
       "      <th></th>\n",
       "      <th></th>\n",
       "    </tr>\n",
       "  </thead>\n",
       "  <tbody>\n",
       "    <tr>\n",
       "      <th>1</th>\n",
       "      <td>1</td>\n",
       "      <td>0</td>\n",
       "      <td>0</td>\n",
       "      <td>0</td>\n",
       "      <td>1</td>\n",
       "      <td>1</td>\n",
       "      <td>0</td>\n",
       "      <td>1</td>\n",
       "    </tr>\n",
       "    <tr>\n",
       "      <th>2</th>\n",
       "      <td>1</td>\n",
       "      <td>0</td>\n",
       "      <td>0</td>\n",
       "      <td>0</td>\n",
       "      <td>1</td>\n",
       "      <td>0</td>\n",
       "      <td>0</td>\n",
       "      <td>0</td>\n",
       "    </tr>\n",
       "    <tr>\n",
       "      <th>3</th>\n",
       "      <td>1</td>\n",
       "      <td>0</td>\n",
       "      <td>0</td>\n",
       "      <td>0</td>\n",
       "      <td>1</td>\n",
       "      <td>0</td>\n",
       "      <td>0</td>\n",
       "      <td>0</td>\n",
       "    </tr>\n",
       "    <tr>\n",
       "      <th>4</th>\n",
       "      <td>0</td>\n",
       "      <td>1</td>\n",
       "      <td>0</td>\n",
       "      <td>1</td>\n",
       "      <td>0</td>\n",
       "      <td>0</td>\n",
       "      <td>1</td>\n",
       "      <td>0</td>\n",
       "    </tr>\n",
       "    <tr>\n",
       "      <th>5</th>\n",
       "      <td>1</td>\n",
       "      <td>0</td>\n",
       "      <td>0</td>\n",
       "      <td>0</td>\n",
       "      <td>1</td>\n",
       "      <td>0</td>\n",
       "      <td>0</td>\n",
       "      <td>0</td>\n",
       "    </tr>\n",
       "  </tbody>\n",
       "</table>\n",
       "</div>"
      ],
      "text/plain": [
       "          COKE  D_COKE  D_PEPSI  D_7UP  PEPSI  SPRITE  TAB  SEVENUP\n",
       "numb.obs                                                           \n",
       "1            1       0        0      0      1       1    0        1\n",
       "2            1       0        0      0      1       0    0        0\n",
       "3            1       0        0      0      1       0    0        0\n",
       "4            0       1        0      1      0       0    1        0\n",
       "5            1       0        0      0      1       0    0        0"
      ]
     },
     "execution_count": 1,
     "metadata": {},
     "output_type": "execute_result"
    }
   ],
   "source": [
    "import pandas as pd\n",
    "import matplotlib.pyplot as plt\n",
    "from scipy.cluster.hierarchy import dendrogram, linkage\n",
    "from sklearn.cluster import KMeans\n",
    "\n",
    "# Загрузка и просмотр данных\n",
    "df = pd.read_csv('beverage_r.csv', delimiter=';', index_col='numb.obs')\n",
    "df.head()"
   ]
  },
  {
   "cell_type": "markdown",
   "metadata": {},
   "source": [
    "## Оценка содержимого данных"
   ]
  },
  {
   "cell_type": "code",
   "execution_count": 3,
   "metadata": {
    "colab": {
     "base_uri": "https://localhost:8080/"
    },
    "id": "FJ9IIzHYrBdq",
    "outputId": "abaa466c-0ec5-45e3-af7b-e238e572688f"
   },
   "outputs": [
    {
     "data": {
      "text/html": [
       "<div>\n",
       "<style scoped>\n",
       "    .dataframe tbody tr th:only-of-type {\n",
       "        vertical-align: middle;\n",
       "    }\n",
       "\n",
       "    .dataframe tbody tr th {\n",
       "        vertical-align: top;\n",
       "    }\n",
       "\n",
       "    .dataframe thead th {\n",
       "        text-align: right;\n",
       "    }\n",
       "</style>\n",
       "<table border=\"1\" class=\"dataframe\">\n",
       "  <thead>\n",
       "    <tr style=\"text-align: right;\">\n",
       "      <th></th>\n",
       "      <th>Beverage</th>\n",
       "      <th>Count</th>\n",
       "      <th>Percentage</th>\n",
       "    </tr>\n",
       "  </thead>\n",
       "  <tbody>\n",
       "    <tr>\n",
       "      <th></th>\n",
       "      <td>COKE</td>\n",
       "      <td>20</td>\n",
       "      <td>58.823529</td>\n",
       "    </tr>\n",
       "    <tr>\n",
       "      <th></th>\n",
       "      <td>D_COKE</td>\n",
       "      <td>17</td>\n",
       "      <td>50.000000</td>\n",
       "    </tr>\n",
       "    <tr>\n",
       "      <th></th>\n",
       "      <td>PEPSI</td>\n",
       "      <td>16</td>\n",
       "      <td>47.058824</td>\n",
       "    </tr>\n",
       "    <tr>\n",
       "      <th></th>\n",
       "      <td>SPRITE</td>\n",
       "      <td>11</td>\n",
       "      <td>32.352941</td>\n",
       "    </tr>\n",
       "    <tr>\n",
       "      <th></th>\n",
       "      <td>TAB</td>\n",
       "      <td>11</td>\n",
       "      <td>32.352941</td>\n",
       "    </tr>\n",
       "    <tr>\n",
       "      <th></th>\n",
       "      <td>SEVENUP</td>\n",
       "      <td>9</td>\n",
       "      <td>26.470588</td>\n",
       "    </tr>\n",
       "    <tr>\n",
       "      <th></th>\n",
       "      <td>D_PEPSI</td>\n",
       "      <td>8</td>\n",
       "      <td>23.529412</td>\n",
       "    </tr>\n",
       "    <tr>\n",
       "      <th></th>\n",
       "      <td>D_7UP</td>\n",
       "      <td>7</td>\n",
       "      <td>20.588235</td>\n",
       "    </tr>\n",
       "  </tbody>\n",
       "</table>\n",
       "</div>"
      ],
      "text/plain": [
       " Beverage  Count  Percentage\n",
       "     COKE     20   58.823529\n",
       "   D_COKE     17   50.000000\n",
       "    PEPSI     16   47.058824\n",
       "   SPRITE     11   32.352941\n",
       "      TAB     11   32.352941\n",
       "  SEVENUP      9   26.470588\n",
       "  D_PEPSI      8   23.529412\n",
       "    D_7UP      7   20.588235"
      ]
     },
     "metadata": {},
     "output_type": "display_data"
    }
   ],
   "source": [
    "beverage_counts = df.sum()\n",
    "\n",
    "# Расчет процентного соотношения для каждого напитка\n",
    "total_observations = len(df)\n",
    "beverage_percentages = (beverage_counts / total_observations) * 100\n",
    "\n",
    "# Объединение количества и процентов в одну таблицу\n",
    "beverage_analysis_df = pd.DataFrame({\n",
    "    'Beverage': beverage_counts.index,\n",
    "    'Count': beverage_counts.values,\n",
    "    'Percentage': beverage_percentages.values\n",
    "})\n",
    "\n",
    "# Сортировка данных по процентам и сброс индексов для аккуратного представления\n",
    "beverage_analysis_df.sort_values(by='Percentage', ascending=False, inplace=True)\n",
    "#beverage_analysis_df.index = beverage_analysis_df['Beverage']\n",
    "#beverage_analysis_df.drop(columns=['Beverage'], inplace=True)\n",
    "beverage_analysis_df.index = [''] * len(beverage_analysis_df)\n",
    "# Вывод результатов\n",
    "display(beverage_analysis_df)"
   ]
  },
  {
   "cell_type": "markdown",
   "metadata": {},
   "source": [
    "Наиболее популярный напиток - Кока кола"
   ]
  },
  {
   "cell_type": "markdown",
   "metadata": {},
   "source": [
    "## Кластеризация методом иерархического кластерного анализа"
   ]
  },
  {
   "cell_type": "code",
   "execution_count": 4,
   "metadata": {
    "colab": {
     "base_uri": "https://localhost:8080/",
     "height": 206
    },
    "id": "oCisS-OwrvZ3",
    "outputId": "3c055bc2-ac5f-45bc-a159-38df738496b8",
    "scrolled": true
   },
   "outputs": [
    {
     "data": {
      "text/html": [
       "<div>\n",
       "<style scoped>\n",
       "    .dataframe tbody tr th:only-of-type {\n",
       "        vertical-align: middle;\n",
       "    }\n",
       "\n",
       "    .dataframe tbody tr th {\n",
       "        vertical-align: top;\n",
       "    }\n",
       "\n",
       "    .dataframe thead th {\n",
       "        text-align: right;\n",
       "    }\n",
       "</style>\n",
       "<table border=\"1\" class=\"dataframe\">\n",
       "  <thead>\n",
       "    <tr style=\"text-align: right;\">\n",
       "      <th></th>\n",
       "      <th>Cluster_1</th>\n",
       "      <th>Cluster_2</th>\n",
       "      <th>Distance</th>\n",
       "      <th>Cluster_Size</th>\n",
       "    </tr>\n",
       "  </thead>\n",
       "  <tbody>\n",
       "    <tr>\n",
       "      <th>22</th>\n",
       "      <td>8.0</td>\n",
       "      <td>49.0</td>\n",
       "      <td>1.732051</td>\n",
       "      <td>3.0</td>\n",
       "    </tr>\n",
       "    <tr>\n",
       "      <th>23</th>\n",
       "      <td>47.0</td>\n",
       "      <td>52.0</td>\n",
       "      <td>1.825742</td>\n",
       "      <td>6.0</td>\n",
       "    </tr>\n",
       "    <tr>\n",
       "      <th>24</th>\n",
       "      <td>16.0</td>\n",
       "      <td>51.0</td>\n",
       "      <td>1.914854</td>\n",
       "      <td>4.0</td>\n",
       "    </tr>\n",
       "    <tr>\n",
       "      <th>25</th>\n",
       "      <td>42.0</td>\n",
       "      <td>48.0</td>\n",
       "      <td>1.936492</td>\n",
       "      <td>8.0</td>\n",
       "    </tr>\n",
       "    <tr>\n",
       "      <th>26</th>\n",
       "      <td>55.0</td>\n",
       "      <td>56.0</td>\n",
       "      <td>2.121320</td>\n",
       "      <td>7.0</td>\n",
       "    </tr>\n",
       "    <tr>\n",
       "      <th>27</th>\n",
       "      <td>58.0</td>\n",
       "      <td>60.0</td>\n",
       "      <td>2.276361</td>\n",
       "      <td>11.0</td>\n",
       "    </tr>\n",
       "    <tr>\n",
       "      <th>28</th>\n",
       "      <td>53.0</td>\n",
       "      <td>59.0</td>\n",
       "      <td>2.337118</td>\n",
       "      <td>11.0</td>\n",
       "    </tr>\n",
       "    <tr>\n",
       "      <th>29</th>\n",
       "      <td>54.0</td>\n",
       "      <td>57.0</td>\n",
       "      <td>2.379203</td>\n",
       "      <td>11.0</td>\n",
       "    </tr>\n",
       "    <tr>\n",
       "      <th>30</th>\n",
       "      <td>12.0</td>\n",
       "      <td>61.0</td>\n",
       "      <td>2.446395</td>\n",
       "      <td>12.0</td>\n",
       "    </tr>\n",
       "    <tr>\n",
       "      <th>31</th>\n",
       "      <td>62.0</td>\n",
       "      <td>64.0</td>\n",
       "      <td>3.876469</td>\n",
       "      <td>23.0</td>\n",
       "    </tr>\n",
       "    <tr>\n",
       "      <th>32</th>\n",
       "      <td>63.0</td>\n",
       "      <td>65.0</td>\n",
       "      <td>7.092130</td>\n",
       "      <td>34.0</td>\n",
       "    </tr>\n",
       "  </tbody>\n",
       "</table>\n",
       "</div>"
      ],
      "text/plain": [
       "    Cluster_1  Cluster_2  Distance  Cluster_Size\n",
       "22        8.0       49.0  1.732051           3.0\n",
       "23       47.0       52.0  1.825742           6.0\n",
       "24       16.0       51.0  1.914854           4.0\n",
       "25       42.0       48.0  1.936492           8.0\n",
       "26       55.0       56.0  2.121320           7.0\n",
       "27       58.0       60.0  2.276361          11.0\n",
       "28       53.0       59.0  2.337118          11.0\n",
       "29       54.0       57.0  2.379203          11.0\n",
       "30       12.0       61.0  2.446395          12.0\n",
       "31       62.0       64.0  3.876469          23.0\n",
       "32       63.0       65.0  7.092130          34.0"
      ]
     },
     "execution_count": 4,
     "metadata": {},
     "output_type": "execute_result"
    }
   ],
   "source": [
    "from scipy.cluster.hierarchy import linkage\n",
    "\n",
    "# Применение иерархической кластеризации\n",
    "link = linkage(df, method='ward', metric='euclidean')\n",
    "\n",
    "# Просмотр содержимого объекта link\n",
    "link_df = pd.DataFrame(link, columns=['Cluster_1', 'Cluster_2', 'Distance', 'Cluster_Size'])\n",
    "\n",
    "# Отображение нескольких строк из конца матрицы link для анализа\n",
    "link_df.iloc[22:]"
   ]
  },
  {
   "cell_type": "markdown",
   "metadata": {},
   "source": [
    "Тут столбцы:\n",
    "- `Cluster_1` и `Cluster_2` - объединяемые кластеры (их номера)\n",
    "- `Distance` - расстояние между объединяемыми кластерами\n",
    "- `Cluster_Size` - размер итгового кластера (число объектов в нём)"
   ]
  },
  {
   "cell_type": "markdown",
   "metadata": {},
   "source": [
    "## Вывод дендрограммы"
   ]
  },
  {
   "cell_type": "code",
   "execution_count": 5,
   "metadata": {
    "colab": {
     "base_uri": "https://localhost:8080/",
     "height": 641
    },
    "id": "fqvTdX3CpgXF",
    "outputId": "45e61669-e80c-4b27-cd43-6c2ffd997cbf"
   },
   "outputs": [
    {
     "data": {
      "image/png": "[encoded data removed]",
      "text/plain": [
       "<Figure size 1000x700 with 1 Axes>"
      ]
     },
     "metadata": {},
     "output_type": "display_data"
    }
   ],
   "source": [
    "plt.figure(figsize=(10, 7))\n",
    "dendrogram(link, orientation='right')\n",
    "plt.title('Дендрограмма иерархической кластеризации')\n",
    "plt.xlabel('Расстояние')\n",
    "plt.ylabel('Наблюдения')\n",
    "plt.show()\n"
   ]
  },
  {
   "cell_type": "markdown",
   "metadata": {
    "id": "If05lMNbsCnm"
   },
   "source": [
    "На дендрограмме каждое соединение между линиями представляет собой слияние кластеров. Высота соединения указывает на расстояние или различие между сливающимися кластерами.\n",
    "\n",
    "Эта дендрограмма помогает визуально оценить, как данные группируются в кластеры, и может быть полезна для определения подходящего числа кластеров.\n",
    "  \n",
    "<b>Из дендрограммы видно, что наиболее логичным кажется разделить выборку на `3` кластера, по уровню расстояния 3 на дендрограмме</b>"
   ]
  },
  {
   "cell_type": "markdown",
   "metadata": {},
   "source": [
    "## Выберем разделение на 3 кластера. Для каждого кластера найдем среднее арифтическое всех показателей и количество элементов в кластере"
   ]
  },
  {
   "cell_type": "code",
   "execution_count": 38,
   "metadata": {
    "colab": {
     "base_uri": "https://localhost:8080/",
     "height": 206
    },
    "id": "d8q3gyTTsGwU",
    "outputId": "180d2eb2-edde-4b57-9da3-ca797358b21c"
   },
   "outputs": [
    {
     "data": {
      "text/html": [
       "<div>\n",
       "<style scoped>\n",
       "    .dataframe tbody tr th:only-of-type {\n",
       "        vertical-align: middle;\n",
       "    }\n",
       "\n",
       "    .dataframe tbody tr th {\n",
       "        vertical-align: top;\n",
       "    }\n",
       "\n",
       "    .dataframe thead th {\n",
       "        text-align: right;\n",
       "    }\n",
       "</style>\n",
       "<table border=\"1\" class=\"dataframe\">\n",
       "  <thead>\n",
       "    <tr style=\"text-align: right;\">\n",
       "      <th></th>\n",
       "      <th>COKE</th>\n",
       "      <th>D_COKE</th>\n",
       "      <th>D_PEPSI</th>\n",
       "      <th>D_7UP</th>\n",
       "      <th>PEPSI</th>\n",
       "      <th>SPRITE</th>\n",
       "      <th>TAB</th>\n",
       "      <th>SEVENUP</th>\n",
       "      <th>size of a cluster</th>\n",
       "    </tr>\n",
       "    <tr>\n",
       "      <th>cluster</th>\n",
       "      <th></th>\n",
       "      <th></th>\n",
       "      <th></th>\n",
       "      <th></th>\n",
       "      <th></th>\n",
       "      <th></th>\n",
       "      <th></th>\n",
       "      <th></th>\n",
       "      <th></th>\n",
       "    </tr>\n",
       "  </thead>\n",
       "  <tbody>\n",
       "    <tr>\n",
       "      <th>1</th>\n",
       "      <td>0.00</td>\n",
       "      <td>1.000</td>\n",
       "      <td>0.545</td>\n",
       "      <td>0.545</td>\n",
       "      <td>0.000</td>\n",
       "      <td>0.000</td>\n",
       "      <td>0.909</td>\n",
       "      <td>0.000</td>\n",
       "      <td>11</td>\n",
       "    </tr>\n",
       "    <tr>\n",
       "      <th>2</th>\n",
       "      <td>1.00</td>\n",
       "      <td>0.273</td>\n",
       "      <td>0.091</td>\n",
       "      <td>0.000</td>\n",
       "      <td>1.000</td>\n",
       "      <td>0.000</td>\n",
       "      <td>0.000</td>\n",
       "      <td>0.273</td>\n",
       "      <td>11</td>\n",
       "    </tr>\n",
       "    <tr>\n",
       "      <th>3</th>\n",
       "      <td>0.75</td>\n",
       "      <td>0.250</td>\n",
       "      <td>0.083</td>\n",
       "      <td>0.083</td>\n",
       "      <td>0.417</td>\n",
       "      <td>0.917</td>\n",
       "      <td>0.083</td>\n",
       "      <td>0.500</td>\n",
       "      <td>12</td>\n",
       "    </tr>\n",
       "  </tbody>\n",
       "</table>\n",
       "</div>"
      ],
      "text/plain": [
       "         COKE  D_COKE  D_PEPSI  D_7UP  PEPSI  SPRITE    TAB  SEVENUP   \n",
       "cluster                                                                \n",
       "1        0.00   1.000    0.545  0.545  0.000   0.000  0.909    0.000  \\\n",
       "2        1.00   0.273    0.091  0.000  1.000   0.000  0.000    0.273   \n",
       "3        0.75   0.250    0.083  0.083  0.417   0.917  0.083    0.500   \n",
       "\n",
       "         size of a cluster  \n",
       "cluster                     \n",
       "1                       11  \n",
       "2                       11  \n",
       "3                       12  "
      ]
     },
     "execution_count": 38,
     "metadata": {},
     "output_type": "execute_result"
    }
   ],
   "source": [
    "from scipy.cluster.hierarchy import fcluster\n",
    "\n",
    "# Определение числа кластеров на основе дендрограммы (можно настроить)\n",
    "# Здесь мы выбираем 3 кластера\n",
    "number_of_clusters = 3\n",
    "\n",
    "# Присваивание каждому наблюдению номера кластера\n",
    "clusters = fcluster(link, number_of_clusters, criterion='maxclust')\n",
    "df['cluster'] = clusters\n",
    "\n",
    "# Группировка данных по кластерам и вычисление среднего\n",
    "group = df.groupby('cluster')\n",
    "cluster_means = group.mean()\n",
    "cluster_means['size of a cluster'] = group.size()\n",
    "cluster_means.round(3)"
   ]
  },
  {
   "cell_type": "markdown",
   "metadata": {},
   "source": [
    "Тут числа в яческах означают отношение сколько продукта попало в кластер к общему количеству объектов в кластере.\n",
    "\n",
    "В последнем столбце - количество объектов в кластере"
   ]
  },
  {
   "cell_type": "markdown",
   "metadata": {
    "id": "qRTVXzRvtgWz"
   },
   "source": [
    "На основе проведенного анализа ваших данных о напитках можно сделать несколько ключевых выводов:\n",
    "\n",
    "Распределение напитков: Coca-Cola (COKE) является самым популярным напитком, присутствуя в 58.82% всех наблюдений, за ним следует Diet Coke (D_COKE) с 50.00% и Pepsi (PEPSI) с 47.06%. Это указывает на то, что эти три напитка наиболее часто употребляются из представленных в данных.\n",
    "\n",
    "Кластеризация: Иерархическая кластеризация с использованием метода Уорда и евклидова расстояния выявила интересные паттерны в предпочтениях напитков. Например, кластер 1 сильно сконцентрирован вокруг Diet Coke (D_COKE) и Tab (TAB), в то время как кластер 2 доминируется Coca-Cola (COKE) и Pepsi (PEPSI). Это может отражать различные группы потребителей или ситуации употребления напитков.\n",
    "\n",
    "Размеры кластеров: Большинство кластеров (1, 2 и 3) содержат по 11 наблюдений, в то время как кластер 4 содержит всего одно наблюдение. Это может указывать на то, что большинство наблюдений в датасете имеют схожие характеристики, в то время как одно наблюдение значительно отличается от остальных.\n",
    "\n",
    "Взаимосвязь напитков: Анализ показал, что некоторые напитки чаще встречаются вместе. Например, в одних кластерах преобладают диетические напитки, в других - обычные версии. Это может служить основой для дальнейшего изучения потребительского поведения и маркетинговых стратегий."
   ]
  },
  {
   "cell_type": "code",
   "execution_count": null,
   "metadata": {
    "colab": {
     "base_uri": "https://localhost:8080/"
    },
    "id": "Dd-u9CXztfyE",
    "outputId": "fc0f9b8a-32b3-4b5a-dd8b-53d04276312f"
   },
   "outputs": [],
   "source": [
    "from sklearn.cluster import KMeans\n",
    "\n",
    "# Инициализация модели KMeans\n",
    "model = KMeans(n_clusters=4, n_init=10, random_state=42)\n",
    "\n",
    "# Подгонка модели по данным, исключая столбцы 'numb.obs' и 'cluster'\n",
    "model.fit(data.drop(['numb.obs', 'cluster'], axis=1))\n",
    "\n",
    "# Получение меток кластеров для каждого наблюдения\n",
    "cluster_labels = model.labels_\n",
    "\n",
    "# Получение координат центров кластеров\n",
    "cluster_centers = model.cluster_centers_\n",
    "\n",
    "cluster_centers"
   ]
  },
  {
   "cell_type": "code",
   "execution_count": null,
   "metadata": {
    "colab": {
     "base_uri": "https://localhost:8080/",
     "height": 718
    },
    "id": "--UZnOPQwxIN",
    "outputId": "43f87263-165f-4cb6-caaf-8719aef361fa"
   },
   "outputs": [],
   "source": [
    "from scipy.spatial.distance import pdist, squareform\n",
    "\n",
    "# Вычисление матрицы расстояний\n",
    "distances = pdist(data.drop(['numb.obs', 'cluster'], axis=1), metric='euclidean')\n",
    "distance_matrix = squareform(distances)\n",
    "\n",
    "# Создание графика расстояний\n",
    "plt.figure(figsize=(10, 8))\n",
    "plt.imshow(distance_matrix, aspect='auto', origin='lower')\n",
    "plt.colorbar()\n",
    "plt.title('Матрица расстояний между наблюдениями')\n",
    "plt.xlabel('Наблюдение')\n",
    "plt.ylabel('Наблюдение')\n",
    "plt.show()"
   ]
  },
  {
   "cell_type": "code",
   "execution_count": null,
   "metadata": {
    "colab": {
     "base_uri": "https://localhost:8080/",
     "height": 564
    },
    "id": "BrSMdrc6yLxG",
    "outputId": "d6cd8703-a155-4f16-cfb6-3d4b063bb3a6"
   },
   "outputs": [],
   "source": [
    "plt.figure(figsize=(10, 6))\n",
    "plt.plot(link[:, 2])\n",
    "plt.title('График изменения расстояния между кластерами на каждом шаге слияния')\n",
    "plt.xlabel('Шаг слияния')\n",
    "plt.ylabel('Расстояние между кластерами')\n",
    "plt.grid(True)\n",
    "plt.show()"
   ]
  },
  {
   "cell_type": "code",
   "execution_count": null,
   "metadata": {
    "colab": {
     "base_uri": "https://localhost:8080/"
    },
    "id": "PVcmW81nypI9",
    "outputId": "a5eb431f-60a7-4b76-e7ca-b8cd76f69fa2"
   },
   "outputs": [],
   "source": [
    "kmeans_model = KMeans(n_clusters=2, random_state=42)\n",
    "kmeans_model.fit(data.drop(['numb.obs', 'cluster'], axis=1))\n",
    "\n",
    "# Получение меток кластеров\n",
    "kmeans_labels = kmeans_model.labels_\n",
    "\n",
    "# Координаты центров кластеров\n",
    "kmeans_cluster_centers = kmeans_model.cluster_centers_\n",
    "\n",
    "kmeans_labels, kmeans_cluster_centers"
   ]
  },
  {
   "cell_type": "code",
   "execution_count": null,
   "metadata": {
    "colab": {
     "base_uri": "https://localhost:8080/",
     "height": 606
    },
    "id": "L-mwdT3S0F6n",
    "outputId": "77a4e476-9fa3-4526-8a15-f4032fe65074"
   },
   "outputs": [],
   "source": [
    "import numpy as np\n",
    "\n",
    "# Создание графика для визуализации координат центров кластеров\n",
    "plt.figure(figsize=(10, 6))\n",
    "\n",
    "# Количество напитков (столбцы, за исключением 'numb.obs' и 'cluster')\n",
    "num_beverages = len(data.columns) - 2\n",
    "\n",
    "# Диапазон для оси x (один столбец для каждого напитка)\n",
    "x = np.arange(num_beverages)\n",
    "\n",
    "# Построение координат для каждого кластера\n",
    "plt.scatter(x, kmeans_cluster_centers[0], label='Кластер 1', s=100)\n",
    "plt.scatter(x, kmeans_cluster_centers[1], label='Кластер 2', s=100)\n",
    "\n",
    "# Добавление меток и легенды\n",
    "plt.title('Координаты центров кластеров')\n",
    "plt.xlabel('Напиток')\n",
    "plt.ylabel('Среднее значение в кластере')\n",
    "plt.xticks(ticks=x, labels=data.columns[1:-1], rotation=45)\n",
    "plt.legend()\n",
    "plt.grid(True)\n",
    "plt.show()"
   ]
  },
  {
   "cell_type": "code",
   "execution_count": null,
   "metadata": {
    "colab": {
     "base_uri": "https://localhost:8080/"
    },
    "id": "12t0N7Q8y9zG",
    "outputId": "c539f27e-6ed8-4780-d658-b1f8d5fb620c"
   },
   "outputs": [],
   "source": [
    "kmeans_model = KMeans(n_clusters=3, random_state=42)\n",
    "kmeans_model.fit(data.drop(['numb.obs', 'cluster'], axis=1))\n",
    "\n",
    "# Получение меток кластеров\n",
    "kmeans_labels = kmeans_model.labels_\n",
    "\n",
    "# Координаты центров кластеров\n",
    "kmeans_cluster_centers = kmeans_model.cluster_centers_\n",
    "\n",
    "kmeans_labels, kmeans_cluster_centers"
   ]
  },
  {
   "cell_type": "code",
   "execution_count": null,
   "metadata": {
    "colab": {
     "base_uri": "https://localhost:8080/",
     "height": 606
    },
    "id": "UtzoU1mE0M5x",
    "outputId": "d525019e-028b-460f-d82a-fd5375a51c51"
   },
   "outputs": [],
   "source": [
    "import numpy as np\n",
    "\n",
    "# Создание графика для визуализации координат центров кластеров\n",
    "plt.figure(figsize=(10, 6))\n",
    "\n",
    "# Количество напитков (столбцы, за исключением 'numb.obs' и 'cluster')\n",
    "num_beverages = len(data.columns) - 2\n",
    "\n",
    "# Диапазон для оси x (один столбец для каждого напитка)\n",
    "x = np.arange(num_beverages)\n",
    "\n",
    "# Построение координат для каждого кластера\n",
    "plt.scatter(x, kmeans_cluster_centers[0], label='Кластер 1', s=100)\n",
    "plt.scatter(x, kmeans_cluster_centers[1], label='Кластер 2', s=100)\n",
    "\n",
    "# Добавление меток и легенды\n",
    "plt.title('Координаты центров кластеров')\n",
    "plt.xlabel('Напиток')\n",
    "plt.ylabel('Среднее значение в кластере')\n",
    "plt.xticks(ticks=x, labels=data.columns[1:-1], rotation=45)\n",
    "plt.legend()\n",
    "plt.grid(True)\n",
    "plt.show()"
   ]
  },
  {
   "cell_type": "code",
   "execution_count": null,
   "metadata": {},
   "outputs": [],
   "source": []
  }
 ],
 "metadata": {
  "colab": {
   "provenance": []
  },
  "kernelspec": {
   "display_name": "Python 3 (ipykernel)",
   "language": "python",
   "name": "python3"
  },
  "language_info": {
   "codemirror_mode": {
    "name": "ipython",
    "version": 3
   },
   "file_extension": ".py",
   "mimetype": "text/x-python",
   "name": "python",
   "nbconvert_exporter": "python",
   "pygments_lexer": "ipython3",
   "version": "3.11.1"
  }
 },
 "nbformat": 4,
 "nbformat_minor": 1
}
