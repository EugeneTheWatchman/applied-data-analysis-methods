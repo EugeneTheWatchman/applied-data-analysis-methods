{
 "cells": [
  {
   "cell_type": "markdown",
   "id": "ee0e606a",
   "metadata": {},
   "source": [
    "### Проверку всех указанных гипотез рекомендуется проводить при уровне значимости 0,05."
   ]
  },
  {
   "cell_type": "code",
   "execution_count": 1,
   "id": "3c6c3dfe",
   "metadata": {},
   "outputs": [],
   "source": [
    "import numpy as np\n",
    "import matplotlib.pyplot as plt\n",
    "import scipy.stats as stats\n",
    "import pandas as pd"
   ]
  },
  {
   "cell_type": "code",
   "execution_count": 20,
   "id": "245e0168",
   "metadata": {},
   "outputs": [],
   "source": [
    "def plot_hist(dataset, color, const = 0, isDensity = False):\n",
    "    numberOfBins = int(1 + np.ceil(3.322 * np.log10(len(dataset))))+const\n",
    "    counts, bins = np.histogram(dataset, numberOfBins, density=isDensity)\n",
    "    ax.hist(bins[:-1], bins, weights=counts, color=color, alpha=0.5, linewidth=0)\n",
    "    ax.hist(bins[:-1], bins, weights=counts, facecolor='None', edgecolor='k', linewidth=0.8, alpha=0.5)\n"
   ]
  },
  {
   "cell_type": "code",
   "execution_count": 3,
   "id": "67eb908f",
   "metadata": {
    "scrolled": true
   },
   "outputs": [
    {
     "data": {
      "text/html": [
       "<div>\n",
       "<style scoped>\n",
       "    .dataframe tbody tr th:only-of-type {\n",
       "        vertical-align: middle;\n",
       "    }\n",
       "\n",
       "    .dataframe tbody tr th {\n",
       "        vertical-align: top;\n",
       "    }\n",
       "\n",
       "    .dataframe thead th {\n",
       "        text-align: right;\n",
       "    }\n",
       "</style>\n",
       "<table border=\"1\" class=\"dataframe\">\n",
       "  <thead>\n",
       "    <tr style=\"text-align: right;\">\n",
       "      <th></th>\n",
       "      <th>0</th>\n",
       "      <th>1</th>\n",
       "      <th>2</th>\n",
       "      <th>3</th>\n",
       "      <th>4</th>\n",
       "      <th>5</th>\n",
       "      <th>6</th>\n",
       "      <th>7</th>\n",
       "      <th>8</th>\n",
       "      <th>9</th>\n",
       "      <th>10</th>\n",
       "      <th>11</th>\n",
       "      <th>12</th>\n",
       "      <th>13</th>\n",
       "    </tr>\n",
       "  </thead>\n",
       "  <tbody>\n",
       "    <tr>\n",
       "      <th>N</th>\n",
       "      <td>425.0</td>\n",
       "      <td>483.0</td>\n",
       "      <td>532.0</td>\n",
       "      <td>610.0</td>\n",
       "      <td>553.0</td>\n",
       "      <td>751.0</td>\n",
       "      <td>526.0</td>\n",
       "      <td>673.0</td>\n",
       "      <td>581.0</td>\n",
       "      <td>480.0</td>\n",
       "      <td>NaN</td>\n",
       "      <td>NaN</td>\n",
       "      <td>NaN</td>\n",
       "      <td>NaN</td>\n",
       "    </tr>\n",
       "    <tr>\n",
       "      <th>R</th>\n",
       "      <td>664.0</td>\n",
       "      <td>766.0</td>\n",
       "      <td>688.0</td>\n",
       "      <td>843.0</td>\n",
       "      <td>711.0</td>\n",
       "      <td>769.0</td>\n",
       "      <td>700.0</td>\n",
       "      <td>774.0</td>\n",
       "      <td>722.0</td>\n",
       "      <td>747.0</td>\n",
       "      <td>721.0</td>\n",
       "      <td>805.0</td>\n",
       "      <td>739.0</td>\n",
       "      <td>744.0</td>\n",
       "    </tr>\n",
       "  </tbody>\n",
       "</table>\n",
       "</div>"
      ],
      "text/plain": [
       "      0      1      2      3      4      5      6      7      8      9   \\\n",
       "N  425.0  483.0  532.0  610.0  553.0  751.0  526.0  673.0  581.0  480.0   \n",
       "R  664.0  766.0  688.0  843.0  711.0  769.0  700.0  774.0  722.0  747.0   \n",
       "\n",
       "      10     11     12     13  \n",
       "N    NaN    NaN    NaN    NaN  \n",
       "R  721.0  805.0  739.0  744.0  "
      ]
     },
     "execution_count": 3,
     "metadata": {},
     "output_type": "execute_result"
    }
   ],
   "source": [
    "# data\n",
    "N = [425, 483, 532, 610, 553, 751, 526, 673, 581, 480]\n",
    "R = [664,766, 688, 843, 711, 769, 700, 774, 722, 747, 721, 805, 739, 744]\n",
    "data = pd.DataFrame([N,R], index = ['N','R']).T\n",
    "data.T"
   ]
  },
  {
   "cell_type": "code",
   "execution_count": 4,
   "id": "ee4e4566",
   "metadata": {
    "scrolled": true
   },
   "outputs": [
    {
     "data": {
      "text/html": [
       "<div>\n",
       "<style scoped>\n",
       "    .dataframe tbody tr th:only-of-type {\n",
       "        vertical-align: middle;\n",
       "    }\n",
       "\n",
       "    .dataframe tbody tr th {\n",
       "        vertical-align: top;\n",
       "    }\n",
       "\n",
       "    .dataframe thead th {\n",
       "        text-align: right;\n",
       "    }\n",
       "</style>\n",
       "<table border=\"1\" class=\"dataframe\">\n",
       "  <thead>\n",
       "    <tr style=\"text-align: right;\">\n",
       "      <th></th>\n",
       "      <th>N</th>\n",
       "      <th>R</th>\n",
       "    </tr>\n",
       "  </thead>\n",
       "  <tbody>\n",
       "    <tr>\n",
       "      <th>count</th>\n",
       "      <td>10.000000</td>\n",
       "      <td>14.000000</td>\n",
       "    </tr>\n",
       "    <tr>\n",
       "      <th>mean</th>\n",
       "      <td>561.400000</td>\n",
       "      <td>742.357143</td>\n",
       "    </tr>\n",
       "    <tr>\n",
       "      <th>std</th>\n",
       "      <td>97.019128</td>\n",
       "      <td>47.313370</td>\n",
       "    </tr>\n",
       "    <tr>\n",
       "      <th>min</th>\n",
       "      <td>425.000000</td>\n",
       "      <td>664.000000</td>\n",
       "    </tr>\n",
       "    <tr>\n",
       "      <th>25%</th>\n",
       "      <td>493.750000</td>\n",
       "      <td>713.500000</td>\n",
       "    </tr>\n",
       "    <tr>\n",
       "      <th>50%</th>\n",
       "      <td>542.500000</td>\n",
       "      <td>741.500000</td>\n",
       "    </tr>\n",
       "    <tr>\n",
       "      <th>75%</th>\n",
       "      <td>602.750000</td>\n",
       "      <td>768.250000</td>\n",
       "    </tr>\n",
       "    <tr>\n",
       "      <th>max</th>\n",
       "      <td>751.000000</td>\n",
       "      <td>843.000000</td>\n",
       "    </tr>\n",
       "  </tbody>\n",
       "</table>\n",
       "</div>"
      ],
      "text/plain": [
       "                N           R\n",
       "count   10.000000   14.000000\n",
       "mean   561.400000  742.357143\n",
       "std     97.019128   47.313370\n",
       "min    425.000000  664.000000\n",
       "25%    493.750000  713.500000\n",
       "50%    542.500000  741.500000\n",
       "75%    602.750000  768.250000\n",
       "max    751.000000  843.000000"
      ]
     },
     "execution_count": 4,
     "metadata": {},
     "output_type": "execute_result"
    }
   ],
   "source": [
    "data.describe()"
   ]
  },
  {
   "cell_type": "code",
   "execution_count": 23,
   "id": "88f9e3d9",
   "metadata": {},
   "outputs": [
    {
     "data": {
      "image/png": "[encoded data removed]",
      "text/plain": [
       "<Figure size 640x480 with 1 Axes>"
      ]
     },
     "metadata": {},
     "output_type": "display_data"
    }
   ],
   "source": [
    "fig = plt.figure(tight_layout=True)\n",
    "ax = fig.add_subplot()\n",
    "plot_hist(N,'b')\n",
    "plot_hist(R,'r')"
   ]
  },
  {
   "cell_type": "markdown",
   "id": "0dec9d2c",
   "metadata": {},
   "source": [
    "# 1) Провести проверку гипотезы о нормальном распределении данных выборок.\n"
   ]
  },
  {
   "cell_type": "markdown",
   "id": "f6288fea",
   "metadata": {},
   "source": [
    "#### Критерий Шапиро-Уилка"
   ]
  },
  {
   "cell_type": "code",
   "execution_count": 11,
   "id": "01378e8b",
   "metadata": {},
   "outputs": [
    {
     "name": "stdout",
     "output_type": "stream",
     "text": [
      "N p-value: 0.7983194589614868\n",
      "R p-value: 0.9814299941062927\n"
     ]
    }
   ],
   "source": [
    "# В стандарте применение критерия предусмотрено при объемах выборки 8 <= n <= 50.\n",
    "print(f\"N p-value: {stats.shapiro(N).pvalue}\")\n",
    "print(f\"R p-value: {stats.shapiro(R).pvalue}\")"
   ]
  },
  {
   "cell_type": "markdown",
   "id": "8a8d15a9",
   "metadata": {},
   "source": [
    "#### Критерий Колмагорова-Смиронова"
   ]
  },
  {
   "cell_type": "code",
   "execution_count": 12,
   "id": "09d217ff",
   "metadata": {},
   "outputs": [
    {
     "name": "stdout",
     "output_type": "stream",
     "text": [
      "N p-value: 0.0\n",
      "R p-value: 0.0\n"
     ]
    }
   ],
   "source": [
    "print(f\"N p-value: {stats.kstest(N, 'norm').pvalue}\")\n",
    "print(f\"R p-value: {stats.kstest(R, 'norm').pvalue}\")"
   ]
  },
  {
   "cell_type": "markdown",
   "id": "425ff1ba",
   "metadata": {},
   "source": [
    "#### Критерий D’Agostino-Pearson’а"
   ]
  },
  {
   "cell_type": "code",
   "execution_count": 13,
   "id": "26fc190f",
   "metadata": {},
   "outputs": [
    {
     "name": "stdout",
     "output_type": "stream",
     "text": [
      "N p-value: 0.5179545339825424\n",
      "R p-value: 0.6203387509459921\n"
     ]
    },
    {
     "name": "stderr",
     "output_type": "stream",
     "text": [
      "D:\\NNetwork\\lib\\site-packages\\scipy\\stats\\_stats_py.py:1806: UserWarning: kurtosistest only valid for n>=20 ... continuing anyway, n=14\n",
      "  warnings.warn(\"kurtosistest only valid for n>=20 ... continuing \"\n"
     ]
    }
   ],
   "source": [
    "print(f\"N p-value: {stats.normaltest(N).pvalue}\")\n",
    "print(f\"R p-value: {stats.normaltest(R).pvalue}\")"
   ]
  },
  {
   "cell_type": "markdown",
   "id": "68c74204",
   "metadata": {},
   "source": [
    "### Вывод осуществляем по критерию Шапиро-Уилка: не можем отвергнуть нулевую гипотезу о том, что выборки N и R распределены нормально"
   ]
  },
  {
   "cell_type": "markdown",
   "id": "9879904c",
   "metadata": {},
   "source": [
    "# 2) Проверить гипотезы о равенстве дисперсий и средних значений выборок.\n"
   ]
  },
  {
   "cell_type": "markdown",
   "id": "a0b29c05",
   "metadata": {},
   "source": [
    "#### 2.1) Метод сравнения дисперсий"
   ]
  },
  {
   "cell_type": "markdown",
   "id": "8b848db7",
   "metadata": {},
   "source": [
    "Предположим, что дисперсии выборок совпадают с генеральными дисперсиями"
   ]
  },
  {
   "cell_type": "code",
   "execution_count": 60,
   "id": "bd70ac23",
   "metadata": {},
   "outputs": [
    {
     "name": "stdout",
     "output_type": "stream",
     "text": [
      "D[N] = 8471.439999999999, D[R] = 2078.6581632653065,\n",
      "D[N]/D[R] = 4.075436812896859\n"
     ]
    }
   ],
   "source": [
    "Nvar = np.var(N)\n",
    "Rvar = np.var(R)\n",
    "print(f'D[N] = {Nvar}, D[R] = {Rvar},', f'D[N]/D[R] = {Nvar/Rvar}', sep='\\n')"
   ]
  },
  {
   "cell_type": "markdown",
   "id": "2d817328",
   "metadata": {},
   "source": [
    "##### 2.2) Критерий Фишера"
   ]
  },
  {
   "cell_type": "code",
   "execution_count": 59,
   "id": "8430ac22",
   "metadata": {},
   "outputs": [
    {
     "data": {
      "text/plain": [
       "0.009866519918580452"
      ]
     },
     "execution_count": 59,
     "metadata": {},
     "output_type": "execute_result"
    }
   ],
   "source": [
    "Nvar = np.var(N, ddof = 1)\n",
    "Rvar = np.var(R, ddof = 1)\n",
    "f_statistic = Nvar/Rvar\n",
    "Nun = len(N) - 1 \n",
    "Dun = len(R) - 1\n",
    "p_value = 1 - stats.f.cdf(f_statistic, Nun, Dun)\n",
    "p_value"
   ]
  },
  {
   "cell_type": "markdown",
   "id": "df463009",
   "metadata": {},
   "source": [
    "### Вывод: p-value для критерия Фишера меньше уровня значимости 0.05 - <i>отвергаем нулевую гипотезу о том, что дисперсии равны"
   ]
  },
  {
   "cell_type": "markdown",
   "id": "8a965876",
   "metadata": {},
   "source": [
    "#### 2.3) Сравнение средних по критерию Стьюдента"
   ]
  },
  {
   "cell_type": "code",
   "execution_count": 43,
   "id": "01880a27",
   "metadata": {},
   "outputs": [
    {
     "data": {
      "text/plain": [
       "TtestResult(statistic=-6.0763746687222, pvalue=4.0797288492615375e-06, df=22.0)"
      ]
     },
     "execution_count": 43,
     "metadata": {},
     "output_type": "execute_result"
    }
   ],
   "source": [
    "stats.ttest_ind(N,R)"
   ]
  },
  {
   "cell_type": "markdown",
   "id": "70f65f62",
   "metadata": {},
   "source": [
    "### Вывод: p-value для критерия Стьюдента меньше уровня значимости 0.05 - <i>отвергаем нулевую гипотезу о том, что средние равны"
   ]
  }
 ],
 "metadata": {
  "kernelspec": {
   "display_name": "Python 3 (ipykernel)",
   "language": "python",
   "name": "python3"
  },
  "language_info": {
   "codemirror_mode": {
    "name": "ipython",
    "version": 3
   },
   "file_extension": ".py",
   "mimetype": "text/x-python",
   "name": "python",
   "nbconvert_exporter": "python",
   "pygments_lexer": "ipython3",
   "version": "3.10.5"
  }
 },
 "nbformat": 4,
 "nbformat_minor": 5
}
