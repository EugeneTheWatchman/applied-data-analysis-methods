{
 "cells": [
  {
   "cell_type": "code",
   "execution_count": null,
   "id": "3c6c3dfe",
   "metadata": {},
   "outputs": [],
   "source": []
  },
  {
   "cell_type": "code",
   "execution_count": null,
   "id": "67eb908f",
   "metadata": {},
   "outputs": [],
   "source": [
    "# data\n",
    "N = [425, 483, 532, 610, 553, 751, 526, 673, 581, 480]\n",
    "R = [664,766, 688, 843, 711, 769, 700, 774, 722, 747, 721, 805, 739, 744]"
   ]
  },
  {
   "cell_type": "markdown",
   "id": "ee0e606a",
   "metadata": {},
   "source": [
    "### Проверку всех указанных гипотез рекомендуется проводить при уровне значимости 0,05."
   ]
  },
  {
   "cell_type": "markdown",
   "id": "9879904c",
   "metadata": {},
   "source": [
    "# Проверить гипотезы о равенстве дисперсий и средних значений N и R.\n"
   ]
  },
  {
   "cell_type": "markdown",
   "id": "0dec9d2c",
   "metadata": {},
   "source": [
    "# Провести проверку гипотезы о нормальном распределении данных выборок.\n"
   ]
  },
  {
   "cell_type": "code",
   "execution_count": null,
   "id": "d92a9a57",
   "metadata": {},
   "outputs": [],
   "source": []
  }
 ],
 "metadata": {
  "kernelspec": {
   "display_name": "Python 3 (ipykernel)",
   "language": "python",
   "name": "python3"
  },
  "language_info": {
   "codemirror_mode": {
    "name": "ipython",
    "version": 3
   },
   "file_extension": ".py",
   "mimetype": "text/x-python",
   "name": "python",
   "nbconvert_exporter": "python",
   "pygments_lexer": "ipython3",
   "version": "3.11.1"
  }
 },
 "nbformat": 4,
 "nbformat_minor": 5
}
