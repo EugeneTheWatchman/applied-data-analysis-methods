{
 "cells": [
  {
   "cell_type": "code",
   "execution_count": 1,
   "id": "0d59bca1",
   "metadata": {},
   "outputs": [],
   "source": [
    "import pandas as pd\n",
    "import numpy as np\n",
    "from matplotlib import pyplot as plt\n",
    "import scipy"
   ]
  },
  {
   "cell_type": "code",
   "execution_count": 2,
   "id": "4ccfeb03",
   "metadata": {},
   "outputs": [],
   "source": [
    "path = r'town_1959_2.csv'\n",
    "data = pd.read_csv(path, encoding = 'cp1251')"
   ]
  },
  {
   "cell_type": "code",
   "execution_count": 3,
   "id": "2da0c092",
   "metadata": {
    "scrolled": true
   },
   "outputs": [
    {
     "data": {
      "text/html": [
       "<div>\n",
       "<style scoped>\n",
       "    .dataframe tbody tr th:only-of-type {\n",
       "        vertical-align: middle;\n",
       "    }\n",
       "\n",
       "    .dataframe tbody tr th {\n",
       "        vertical-align: top;\n",
       "    }\n",
       "\n",
       "    .dataframe thead th {\n",
       "        text-align: right;\n",
       "    }\n",
       "</style>\n",
       "<table border=\"1\" class=\"dataframe\">\n",
       "  <thead>\n",
       "    <tr style=\"text-align: right;\">\n",
       "      <th></th>\n",
       "      <th>номер</th>\n",
       "      <th>город</th>\n",
       "      <th>население</th>\n",
       "    </tr>\n",
       "  </thead>\n",
       "  <tbody>\n",
       "    <tr>\n",
       "      <th>0</th>\n",
       "      <td>1</td>\n",
       "      <td>Москва</td>\n",
       "      <td>5046.0</td>\n",
       "    </tr>\n",
       "    <tr>\n",
       "      <th>1</th>\n",
       "      <td>2</td>\n",
       "      <td>Санкт-Петербург</td>\n",
       "      <td>3003.0</td>\n",
       "    </tr>\n",
       "    <tr>\n",
       "      <th>2</th>\n",
       "      <td>3</td>\n",
       "      <td>Нижний_Новгород</td>\n",
       "      <td>941.0</td>\n",
       "    </tr>\n",
       "    <tr>\n",
       "      <th>3</th>\n",
       "      <td>4</td>\n",
       "      <td>Новосибирск</td>\n",
       "      <td>885.0</td>\n",
       "    </tr>\n",
       "    <tr>\n",
       "      <th>4</th>\n",
       "      <td>5</td>\n",
       "      <td>Самара</td>\n",
       "      <td>806.0</td>\n",
       "    </tr>\n",
       "  </tbody>\n",
       "</table>\n",
       "</div>"
      ],
      "text/plain": [
       "  номер            город  население\n",
       "0     1           Москва     5046.0\n",
       "1     2  Санкт-Петербург     3003.0\n",
       "2     3  Нижний_Новгород      941.0\n",
       "3     4      Новосибирск      885.0\n",
       "4     5           Самара      806.0"
      ]
     },
     "execution_count": 3,
     "metadata": {},
     "output_type": "execute_result"
    }
   ],
   "source": [
    "data.head()"
   ]
  },
  {
   "cell_type": "code",
   "execution_count": 4,
   "id": "713581da",
   "metadata": {},
   "outputs": [],
   "source": [
    "def ruleOf3std(series : pd.Series):\n",
    "    std = series.std()\n",
    "    mean = series.mean()\n",
    "    #range = [mean - 3*std, mean + 3*std] # not usable\n",
    "    mask = series < (std * 3 + mean)\n",
    "    return series#[mask]"
   ]
  },
  {
   "cell_type": "code",
   "execution_count": 5,
   "id": "6919f6a8",
   "metadata": {},
   "outputs": [
    {
     "data": {
      "image/png": "[encoded data removed]",
      "text/plain": [
       "<Figure size 640x480 with 1 Axes>"
      ]
     },
     "metadata": {},
     "output_type": "display_data"
    }
   ],
   "source": [
    "bins = 20\n",
    "counts, bins = np.histogram(ruleOf3std(data['население']), bins=bins) # ruleOf3std - правило 3 сигм, убирает из вывода переменные, выходящие за рамки правила\n",
    "plt.hist(bins[:-1], bins, weights=counts)\n",
    "plt.grid(True)\n",
    "plt.show()"
   ]
  },
  {
   "cell_type": "code",
   "execution_count": 10,
   "id": "4a70c441",
   "metadata": {
    "scrolled": false
   },
   "outputs": [
    {
     "data": {
      "image/png": "[encoded data removed]",
      "text/plain": [
       "<Figure size 640x480 with 1 Axes>"
      ]
     },
     "metadata": {},
     "output_type": "display_data"
    }
   ],
   "source": [
    "logarithmicData = np.log10(data['население'])\n",
    "bins = 30\n",
    "counts, bins = np.histogram(logarithmicData, bins=bins) # ruleOf3std - правило 3 сигм, убирает из вывода переменные, выходящие за рамки правила\n",
    "plt.hist(bins[:-1], bins, weights=counts)\n",
    "plt.grid(True)\n",
    "plt.show()"
   ]
  },
  {
   "cell_type": "code",
   "execution_count": 11,
   "id": "5d0fbf3a",
   "metadata": {},
   "outputs": [
    {
     "data": {
      "text/plain": [
       "count    1004.000000\n",
       "mean        1.319556\n",
       "std         0.515877\n",
       "min        -1.000000\n",
       "25%         1.029384\n",
       "50%         1.284429\n",
       "75%         1.579495\n",
       "max         3.702947\n",
       "Name: население, dtype: float64"
      ]
     },
     "execution_count": 11,
     "metadata": {},
     "output_type": "execute_result"
    }
   ],
   "source": [
    "logarithmicData.describe()"
   ]
  },
  {
   "cell_type": "code",
   "execution_count": 12,
   "id": "3b41df3e",
   "metadata": {},
   "outputs": [
    {
     "data": {
      "text/plain": [
       "ShapiroResult(statistic=0.16436320543289185, pvalue=0.0)"
      ]
     },
     "execution_count": 12,
     "metadata": {},
     "output_type": "execute_result"
    }
   ],
   "source": [
    "scipy.stats.shapiro((data['население']))"
   ]
  },
  {
   "cell_type": "code",
   "execution_count": 13,
   "id": "0ac6887e",
   "metadata": {},
   "outputs": [
    {
     "data": {
      "text/plain": [
       "ShapiroResult(statistic=0.9746663570404053, pvalue=3.1486824866172602e-12)"
      ]
     },
     "execution_count": 13,
     "metadata": {},
     "output_type": "execute_result"
    }
   ],
   "source": [
    "scipy.stats.shapiro(logarithmicData)"
   ]
  },
  {
   "cell_type": "code",
   "execution_count": null,
   "id": "3d582003",
   "metadata": {},
   "outputs": [],
   "source": []
  }
 ],
 "metadata": {
  "kernelspec": {
   "display_name": "Python 3 (ipykernel)",
   "language": "python",
   "name": "python3"
  },
  "language_info": {
   "codemirror_mode": {
    "name": "ipython",
    "version": 3
   },
   "file_extension": ".py",
   "mimetype": "text/x-python",
   "name": "python",
   "nbconvert_exporter": "python",
   "pygments_lexer": "ipython3",
   "version": "3.11.1"
  }
 },
 "nbformat": 4,
 "nbformat_minor": 5
}
