{
 "cells": [
  {
   "cell_type": "code",
   "execution_count": 1,
   "id": "0d59bca1",
   "metadata": {},
   "outputs": [],
   "source": [
    "import pandas as pd\n",
    "import numpy as np\n",
    "from matplotlib import pyplot as plt\n",
    "import scipy"
   ]
  },
  {
   "cell_type": "code",
   "execution_count": 2,
   "id": "4ccfeb03",
   "metadata": {},
   "outputs": [],
   "source": [
    "path = r'Albuquerque Home Prices_data.txt'\n",
    "data = pd.read_csv(path, sep = '\\t')"
   ]
  },
  {
   "cell_type": "code",
   "execution_count": 3,
   "id": "2da0c092",
   "metadata": {
    "scrolled": false
   },
   "outputs": [
    {
     "data": {
      "text/html": [
       "<div>\n",
       "<style scoped>\n",
       "    .dataframe tbody tr th:only-of-type {\n",
       "        vertical-align: middle;\n",
       "    }\n",
       "\n",
       "    .dataframe tbody tr th {\n",
       "        vertical-align: top;\n",
       "    }\n",
       "\n",
       "    .dataframe thead th {\n",
       "        text-align: right;\n",
       "    }\n",
       "</style>\n",
       "<table border=\"1\" class=\"dataframe\">\n",
       "  <thead>\n",
       "    <tr style=\"text-align: right;\">\n",
       "      <th></th>\n",
       "      <th>PRICE</th>\n",
       "      <th>SQFT</th>\n",
       "      <th>AGE</th>\n",
       "      <th>FEATS</th>\n",
       "      <th>NE</th>\n",
       "      <th>CUST</th>\n",
       "      <th>COR</th>\n",
       "      <th>TAX</th>\n",
       "    </tr>\n",
       "  </thead>\n",
       "  <tbody>\n",
       "    <tr>\n",
       "      <th>0</th>\n",
       "      <td>2050</td>\n",
       "      <td>2650</td>\n",
       "      <td>13</td>\n",
       "      <td>7</td>\n",
       "      <td>1</td>\n",
       "      <td>1</td>\n",
       "      <td>0</td>\n",
       "      <td>1639</td>\n",
       "    </tr>\n",
       "    <tr>\n",
       "      <th>1</th>\n",
       "      <td>2080</td>\n",
       "      <td>2600</td>\n",
       "      <td>-9999</td>\n",
       "      <td>4</td>\n",
       "      <td>1</td>\n",
       "      <td>1</td>\n",
       "      <td>0</td>\n",
       "      <td>1088</td>\n",
       "    </tr>\n",
       "    <tr>\n",
       "      <th>2</th>\n",
       "      <td>2150</td>\n",
       "      <td>2664</td>\n",
       "      <td>6</td>\n",
       "      <td>5</td>\n",
       "      <td>1</td>\n",
       "      <td>1</td>\n",
       "      <td>0</td>\n",
       "      <td>1193</td>\n",
       "    </tr>\n",
       "    <tr>\n",
       "      <th>3</th>\n",
       "      <td>2150</td>\n",
       "      <td>2921</td>\n",
       "      <td>3</td>\n",
       "      <td>6</td>\n",
       "      <td>1</td>\n",
       "      <td>1</td>\n",
       "      <td>0</td>\n",
       "      <td>1635</td>\n",
       "    </tr>\n",
       "    <tr>\n",
       "      <th>4</th>\n",
       "      <td>1999</td>\n",
       "      <td>2580</td>\n",
       "      <td>4</td>\n",
       "      <td>4</td>\n",
       "      <td>1</td>\n",
       "      <td>1</td>\n",
       "      <td>0</td>\n",
       "      <td>1732</td>\n",
       "    </tr>\n",
       "  </tbody>\n",
       "</table>\n",
       "</div>"
      ],
      "text/plain": [
       "   PRICE  SQFT   AGE  FEATS  NE  CUST  COR   TAX\n",
       "0   2050  2650    13      7   1     1    0  1639\n",
       "1   2080  2600 -9999      4   1     1    0  1088\n",
       "2   2150  2664     6      5   1     1    0  1193\n",
       "3   2150  2921     3      6   1     1    0  1635\n",
       "4   1999  2580     4      4   1     1    0  1732"
      ]
     },
     "execution_count": 3,
     "metadata": {},
     "output_type": "execute_result"
    }
   ],
   "source": [
    "data.head()"
   ]
  },
  {
   "cell_type": "code",
   "execution_count": 14,
   "id": "f967c163",
   "metadata": {},
   "outputs": [
    {
     "data": {
      "text/html": [
       "<div>\n",
       "<style scoped>\n",
       "    .dataframe tbody tr th:only-of-type {\n",
       "        vertical-align: middle;\n",
       "    }\n",
       "\n",
       "    .dataframe tbody tr th {\n",
       "        vertical-align: top;\n",
       "    }\n",
       "\n",
       "    .dataframe thead th {\n",
       "        text-align: right;\n",
       "    }\n",
       "</style>\n",
       "<table border=\"1\" class=\"dataframe\">\n",
       "  <thead>\n",
       "    <tr style=\"text-align: right;\">\n",
       "      <th></th>\n",
       "      <th>PRICE</th>\n",
       "      <th>SQFT</th>\n",
       "      <th>AGE</th>\n",
       "      <th>FEATS</th>\n",
       "      <th>NE</th>\n",
       "      <th>CUST</th>\n",
       "      <th>COR</th>\n",
       "      <th>TAX</th>\n",
       "    </tr>\n",
       "  </thead>\n",
       "  <tbody>\n",
       "    <tr>\n",
       "      <th>count</th>\n",
       "      <td>117.000000</td>\n",
       "      <td>117.000000</td>\n",
       "      <td>117.000000</td>\n",
       "      <td>117.000000</td>\n",
       "      <td>117.000000</td>\n",
       "      <td>117.000000</td>\n",
       "      <td>117.000000</td>\n",
       "      <td>117.000000</td>\n",
       "    </tr>\n",
       "    <tr>\n",
       "      <th>mean</th>\n",
       "      <td>1062.735043</td>\n",
       "      <td>1653.854701</td>\n",
       "      <td>-4178.914530</td>\n",
       "      <td>3.529915</td>\n",
       "      <td>0.666667</td>\n",
       "      <td>0.230769</td>\n",
       "      <td>0.188034</td>\n",
       "      <td>-128.948718</td>\n",
       "    </tr>\n",
       "    <tr>\n",
       "      <th>std</th>\n",
       "      <td>380.436985</td>\n",
       "      <td>523.722802</td>\n",
       "      <td>4961.782238</td>\n",
       "      <td>1.405486</td>\n",
       "      <td>0.473432</td>\n",
       "      <td>0.423137</td>\n",
       "      <td>0.392420</td>\n",
       "      <td>3044.626782</td>\n",
       "    </tr>\n",
       "    <tr>\n",
       "      <th>min</th>\n",
       "      <td>540.000000</td>\n",
       "      <td>837.000000</td>\n",
       "      <td>-9999.000000</td>\n",
       "      <td>0.000000</td>\n",
       "      <td>0.000000</td>\n",
       "      <td>0.000000</td>\n",
       "      <td>0.000000</td>\n",
       "      <td>-9999.000000</td>\n",
       "    </tr>\n",
       "    <tr>\n",
       "      <th>25%</th>\n",
       "      <td>780.000000</td>\n",
       "      <td>1280.000000</td>\n",
       "      <td>-9999.000000</td>\n",
       "      <td>3.000000</td>\n",
       "      <td>0.000000</td>\n",
       "      <td>0.000000</td>\n",
       "      <td>0.000000</td>\n",
       "      <td>553.000000</td>\n",
       "    </tr>\n",
       "    <tr>\n",
       "      <th>50%</th>\n",
       "      <td>960.000000</td>\n",
       "      <td>1549.000000</td>\n",
       "      <td>4.000000</td>\n",
       "      <td>4.000000</td>\n",
       "      <td>1.000000</td>\n",
       "      <td>0.000000</td>\n",
       "      <td>0.000000</td>\n",
       "      <td>701.000000</td>\n",
       "    </tr>\n",
       "    <tr>\n",
       "      <th>75%</th>\n",
       "      <td>1200.000000</td>\n",
       "      <td>1894.000000</td>\n",
       "      <td>15.000000</td>\n",
       "      <td>4.000000</td>\n",
       "      <td>1.000000</td>\n",
       "      <td>0.000000</td>\n",
       "      <td>0.000000</td>\n",
       "      <td>899.000000</td>\n",
       "    </tr>\n",
       "    <tr>\n",
       "      <th>max</th>\n",
       "      <td>2150.000000</td>\n",
       "      <td>3750.000000</td>\n",
       "      <td>53.000000</td>\n",
       "      <td>8.000000</td>\n",
       "      <td>1.000000</td>\n",
       "      <td>1.000000</td>\n",
       "      <td>1.000000</td>\n",
       "      <td>1765.000000</td>\n",
       "    </tr>\n",
       "  </tbody>\n",
       "</table>\n",
       "</div>"
      ],
      "text/plain": [
       "             PRICE         SQFT          AGE       FEATS          NE   \n",
       "count   117.000000   117.000000   117.000000  117.000000  117.000000  \\\n",
       "mean   1062.735043  1653.854701 -4178.914530    3.529915    0.666667   \n",
       "std     380.436985   523.722802  4961.782238    1.405486    0.473432   \n",
       "min     540.000000   837.000000 -9999.000000    0.000000    0.000000   \n",
       "25%     780.000000  1280.000000 -9999.000000    3.000000    0.000000   \n",
       "50%     960.000000  1549.000000     4.000000    4.000000    1.000000   \n",
       "75%    1200.000000  1894.000000    15.000000    4.000000    1.000000   \n",
       "max    2150.000000  3750.000000    53.000000    8.000000    1.000000   \n",
       "\n",
       "             CUST         COR          TAX  \n",
       "count  117.000000  117.000000   117.000000  \n",
       "mean     0.230769    0.188034  -128.948718  \n",
       "std      0.423137    0.392420  3044.626782  \n",
       "min      0.000000    0.000000 -9999.000000  \n",
       "25%      0.000000    0.000000   553.000000  \n",
       "50%      0.000000    0.000000   701.000000  \n",
       "75%      0.000000    0.000000   899.000000  \n",
       "max      1.000000    1.000000  1765.000000  "
      ]
     },
     "execution_count": 14,
     "metadata": {},
     "output_type": "execute_result"
    }
   ],
   "source": [
    "data.describe()"
   ]
  },
  {
   "cell_type": "code",
   "execution_count": 9,
   "id": "ee97c094",
   "metadata": {},
   "outputs": [
    {
     "name": "stdout",
     "output_type": "stream",
     "text": [
      "    PRICE  SQFT  AGE  FEATS  NE  CUST  COR   TAX\n",
      "17   1110  1630   15      3   1     0    1   867\n",
      "18   1139  1680   17      4   1     0    1   750\n",
      "23    900  1400   16      2   1     0    1   731\n",
      "26   1695  2931   28      3   1     0    1  1142\n",
      "30   1020  1478   53      3   1     0    1   626\n",
      "   PRICE  SQFT   AGE  FEATS  NE  CUST  COR   TAX\n",
      "0   2050  2650    13      7   1     1    0  1639\n",
      "1   2080  2600 -9999      4   1     1    0  1088\n",
      "2   2150  2664     6      5   1     1    0  1193\n",
      "3   2150  2921     3      6   1     1    0  1635\n",
      "4   1999  2580     4      4   1     1    0  1732\n"
     ]
    }
   ],
   "source": [
    "mask = data['COR'] == 1\n",
    "corner_houses = data[mask]\n",
    "uncorner_houses = data[mask == False]\n",
    "print(corner_houses.head())\n",
    "print(uncorner_houses.head())"
   ]
  },
  {
   "cell_type": "code",
   "execution_count": 45,
   "id": "0b65bcc7",
   "metadata": {},
   "outputs": [
    {
     "data": {
      "image/png": "[encoded data removed]",
      "text/plain": [
       "<Figure size 640x480 with 1 Axes>"
      ]
     },
     "metadata": {},
     "output_type": "display_data"
    }
   ],
   "source": [
    "fig = plt.figure(tight_layout=True)\n",
    "ax = fig.add_subplot()\n",
    "# all\n",
    "numberOfBins = int(1 + np.ceil(3.322 * np.log10(len(data['PRICE'])))) * 2\n",
    "counts, bins = np.histogram(data['PRICE'], numberOfBins)\n",
    "ax.hist(bins[:-1], bins, weights=counts, color='y', alpha=0.25, linewidth=0)\n",
    "ax.grid()\n",
    "ax.hist(bins[:-1], bins, weights=counts, facecolor='None', edgecolor='y', linewidth=2, alpha=1)\n",
    "# corner_houses\n",
    "numberOfBins = int(1 + np.ceil(3.322 * np.log10(len(corner_houses['PRICE'])))) * 2\n",
    "counts, bins = np.histogram(corner_houses['PRICE'], numberOfBins)\n",
    "ax.hist(bins[:-1], bins, weights=counts, color='b', alpha=0.25, linewidth=0)\n",
    "ax.hist(bins[:-1], bins, weights=counts, facecolor='None', edgecolor='b', linewidth=1.5, alpha=1)\n",
    "# uncorner_houses\n",
    "numberOfBins = int(1 + np.ceil(3.322 * np.log10(len(uncorner_houses['PRICE'])))) * 2\n",
    "counts, bins = np.histogram(uncorner_houses['PRICE'], numberOfBins)\n",
    "ax.hist(bins[:-1], bins, weights=counts, color='r', alpha=0.25, linewidth=0)\n",
    "ax.hist(bins[:-1], bins, weights=counts, facecolor='None', edgecolor='r', linewidth=1.5, alpha=1)\n",
    "plt.title('Вся выборка - желтым, сниним - здания на углу, красным - не на углу')\n",
    "plt.show()"
   ]
  },
  {
   "cell_type": "code",
   "execution_count": 36,
   "id": "9dd77e6f",
   "metadata": {},
   "outputs": [
    {
     "data": {
      "image/png": "[encoded data removed]",
      "text/plain": [
       "<Figure size 640x480 with 1 Axes>"
      ]
     },
     "metadata": {},
     "output_type": "display_data"
    }
   ],
   "source": [
    "fig = plt.figure(tight_layout=True)\n",
    "ax = fig.add_subplot()\n",
    "# corner_houses\n",
    "numberOfBins = int(1 + np.ceil(3.322 * np.log10(len(corner_houses['PRICE'])))) * 2\n",
    "counts, bins = np.histogram(corner_houses['PRICE'], numberOfBins, density=True)\n",
    "ax.hist(bins[:-1], bins, weights=counts, color='b', alpha=0.25, linewidth=0)\n",
    "ax.grid()\n",
    "ax.hist(bins[:-1], bins, weights=counts, facecolor='None', edgecolor='b', linewidth=1.5, alpha=1)\n",
    "# uncorner_houses\n",
    "numberOfBins = int(1 + np.ceil(3.322 * np.log10(len(uncorner_houses['PRICE'])))) * 2\n",
    "counts, bins = np.histogram(uncorner_houses['PRICE'], numberOfBins, density=True)\n",
    "ax.hist(bins[:-1], bins, weights=counts, color='r', alpha=0.25, linewidth=0)\n",
    "ax.hist(bins[:-1], bins, weights=counts, facecolor='None', edgecolor='r', linewidth=1.5, alpha=1)\n",
    "plt.show()"
   ]
  },
  {
   "cell_type": "code",
   "execution_count": 21,
   "id": "713581da",
   "metadata": {},
   "outputs": [],
   "source": [
    "def ruleOf3std(series : pd.Series):\n",
    "    std = series.std()\n",
    "    mean = series.mean()\n",
    "    #range = [mean - 3*std, mean + 3*std] # not usable\n",
    "    mask = series < (std * 3 + mean)\n",
    "    return series[mask]"
   ]
  },
  {
   "cell_type": "code",
   "execution_count": 22,
   "id": "6919f6a8",
   "metadata": {},
   "outputs": [
    {
     "ename": "KeyError",
     "evalue": "'население'",
     "output_type": "error",
     "traceback": [
      "\u001b[1;31m---------------------------------------------------------------------------\u001b[0m",
      "\u001b[1;31mKeyError\u001b[0m                                  Traceback (most recent call last)",
      "File \u001b[1;32m~\\NeuralNetworks\\Lib\\site-packages\\pandas\\core\\indexes\\base.py:3652\u001b[0m, in \u001b[0;36mIndex.get_loc\u001b[1;34m(self, key)\u001b[0m\n\u001b[0;32m   3651\u001b[0m \u001b[38;5;28;01mtry\u001b[39;00m:\n\u001b[1;32m-> 3652\u001b[0m     \u001b[38;5;28;01mreturn\u001b[39;00m \u001b[38;5;28;43mself\u001b[39;49m\u001b[38;5;241;43m.\u001b[39;49m\u001b[43m_engine\u001b[49m\u001b[38;5;241;43m.\u001b[39;49m\u001b[43mget_loc\u001b[49m\u001b[43m(\u001b[49m\u001b[43mcasted_key\u001b[49m\u001b[43m)\u001b[49m\n\u001b[0;32m   3653\u001b[0m \u001b[38;5;28;01mexcept\u001b[39;00m \u001b[38;5;167;01mKeyError\u001b[39;00m \u001b[38;5;28;01mas\u001b[39;00m err:\n",
      "File \u001b[1;32m~\\NeuralNetworks\\Lib\\site-packages\\pandas\\_libs\\index.pyx:147\u001b[0m, in \u001b[0;36mpandas._libs.index.IndexEngine.get_loc\u001b[1;34m()\u001b[0m\n",
      "File \u001b[1;32m~\\NeuralNetworks\\Lib\\site-packages\\pandas\\_libs\\index.pyx:176\u001b[0m, in \u001b[0;36mpandas._libs.index.IndexEngine.get_loc\u001b[1;34m()\u001b[0m\n",
      "File \u001b[1;32mpandas\\_libs\\hashtable_class_helper.pxi:7080\u001b[0m, in \u001b[0;36mpandas._libs.hashtable.PyObjectHashTable.get_item\u001b[1;34m()\u001b[0m\n",
      "File \u001b[1;32mpandas\\_libs\\hashtable_class_helper.pxi:7088\u001b[0m, in \u001b[0;36mpandas._libs.hashtable.PyObjectHashTable.get_item\u001b[1;34m()\u001b[0m\n",
      "\u001b[1;31mKeyError\u001b[0m: 'население'",
      "\nThe above exception was the direct cause of the following exception:\n",
      "\u001b[1;31mKeyError\u001b[0m                                  Traceback (most recent call last)",
      "Cell \u001b[1;32mIn[22], line 2\u001b[0m\n\u001b[0;32m      1\u001b[0m bins \u001b[38;5;241m=\u001b[39m \u001b[38;5;241m20\u001b[39m\n\u001b[1;32m----> 2\u001b[0m counts, bins \u001b[38;5;241m=\u001b[39m np\u001b[38;5;241m.\u001b[39mhistogram(ruleOf3std(\u001b[43mdata\u001b[49m\u001b[43m[\u001b[49m\u001b[38;5;124;43m'\u001b[39;49m\u001b[38;5;124;43mнаселение\u001b[39;49m\u001b[38;5;124;43m'\u001b[39;49m\u001b[43m]\u001b[49m), bins\u001b[38;5;241m=\u001b[39mbins) \u001b[38;5;66;03m# ruleOf3std - правило 3 сигм, убирает из вывода переменные, выходящие за рамки правила\u001b[39;00m\n\u001b[0;32m      3\u001b[0m plt\u001b[38;5;241m.\u001b[39mhist(bins[:\u001b[38;5;241m-\u001b[39m\u001b[38;5;241m1\u001b[39m], bins, weights\u001b[38;5;241m=\u001b[39mcounts)\n\u001b[0;32m      4\u001b[0m plt\u001b[38;5;241m.\u001b[39mgrid(\u001b[38;5;28;01mTrue\u001b[39;00m)\n",
      "File \u001b[1;32m~\\NeuralNetworks\\Lib\\site-packages\\pandas\\core\\frame.py:3761\u001b[0m, in \u001b[0;36mDataFrame.__getitem__\u001b[1;34m(self, key)\u001b[0m\n\u001b[0;32m   3759\u001b[0m \u001b[38;5;28;01mif\u001b[39;00m \u001b[38;5;28mself\u001b[39m\u001b[38;5;241m.\u001b[39mcolumns\u001b[38;5;241m.\u001b[39mnlevels \u001b[38;5;241m>\u001b[39m \u001b[38;5;241m1\u001b[39m:\n\u001b[0;32m   3760\u001b[0m     \u001b[38;5;28;01mreturn\u001b[39;00m \u001b[38;5;28mself\u001b[39m\u001b[38;5;241m.\u001b[39m_getitem_multilevel(key)\n\u001b[1;32m-> 3761\u001b[0m indexer \u001b[38;5;241m=\u001b[39m \u001b[38;5;28;43mself\u001b[39;49m\u001b[38;5;241;43m.\u001b[39;49m\u001b[43mcolumns\u001b[49m\u001b[38;5;241;43m.\u001b[39;49m\u001b[43mget_loc\u001b[49m\u001b[43m(\u001b[49m\u001b[43mkey\u001b[49m\u001b[43m)\u001b[49m\n\u001b[0;32m   3762\u001b[0m \u001b[38;5;28;01mif\u001b[39;00m is_integer(indexer):\n\u001b[0;32m   3763\u001b[0m     indexer \u001b[38;5;241m=\u001b[39m [indexer]\n",
      "File \u001b[1;32m~\\NeuralNetworks\\Lib\\site-packages\\pandas\\core\\indexes\\base.py:3654\u001b[0m, in \u001b[0;36mIndex.get_loc\u001b[1;34m(self, key)\u001b[0m\n\u001b[0;32m   3652\u001b[0m     \u001b[38;5;28;01mreturn\u001b[39;00m \u001b[38;5;28mself\u001b[39m\u001b[38;5;241m.\u001b[39m_engine\u001b[38;5;241m.\u001b[39mget_loc(casted_key)\n\u001b[0;32m   3653\u001b[0m \u001b[38;5;28;01mexcept\u001b[39;00m \u001b[38;5;167;01mKeyError\u001b[39;00m \u001b[38;5;28;01mas\u001b[39;00m err:\n\u001b[1;32m-> 3654\u001b[0m     \u001b[38;5;28;01mraise\u001b[39;00m \u001b[38;5;167;01mKeyError\u001b[39;00m(key) \u001b[38;5;28;01mfrom\u001b[39;00m \u001b[38;5;21;01merr\u001b[39;00m\n\u001b[0;32m   3655\u001b[0m \u001b[38;5;28;01mexcept\u001b[39;00m \u001b[38;5;167;01mTypeError\u001b[39;00m:\n\u001b[0;32m   3656\u001b[0m     \u001b[38;5;66;03m# If we have a listlike key, _check_indexing_error will raise\u001b[39;00m\n\u001b[0;32m   3657\u001b[0m     \u001b[38;5;66;03m#  InvalidIndexError. Otherwise we fall through and re-raise\u001b[39;00m\n\u001b[0;32m   3658\u001b[0m     \u001b[38;5;66;03m#  the TypeError.\u001b[39;00m\n\u001b[0;32m   3659\u001b[0m     \u001b[38;5;28mself\u001b[39m\u001b[38;5;241m.\u001b[39m_check_indexing_error(key)\n",
      "\u001b[1;31mKeyError\u001b[0m: 'население'"
     ]
    }
   ],
   "source": [
    "bins = 20\n",
    "counts, bins = np.histogram(ruleOf3std(data['население']), bins=bins) # ruleOf3std - правило 3 сигм, убирает из вывода переменные, выходящие за рамки правила\n",
    "plt.hist(bins[:-1], bins, weights=counts)\n",
    "plt.grid(True)\n",
    "plt.show()"
   ]
  },
  {
   "cell_type": "code",
   "execution_count": 7,
   "id": "4a70c441",
   "metadata": {
    "scrolled": false
   },
   "outputs": [
    {
     "ename": "KeyError",
     "evalue": "'население'",
     "output_type": "error",
     "traceback": [
      "\u001b[1;31m---------------------------------------------------------------------------\u001b[0m",
      "\u001b[1;31mKeyError\u001b[0m                                  Traceback (most recent call last)",
      "File \u001b[1;32m~\\NeuralNetworks\\Lib\\site-packages\\pandas\\core\\indexes\\base.py:3652\u001b[0m, in \u001b[0;36mIndex.get_loc\u001b[1;34m(self, key)\u001b[0m\n\u001b[0;32m   3651\u001b[0m \u001b[38;5;28;01mtry\u001b[39;00m:\n\u001b[1;32m-> 3652\u001b[0m     \u001b[38;5;28;01mreturn\u001b[39;00m \u001b[38;5;28;43mself\u001b[39;49m\u001b[38;5;241;43m.\u001b[39;49m\u001b[43m_engine\u001b[49m\u001b[38;5;241;43m.\u001b[39;49m\u001b[43mget_loc\u001b[49m\u001b[43m(\u001b[49m\u001b[43mcasted_key\u001b[49m\u001b[43m)\u001b[49m\n\u001b[0;32m   3653\u001b[0m \u001b[38;5;28;01mexcept\u001b[39;00m \u001b[38;5;167;01mKeyError\u001b[39;00m \u001b[38;5;28;01mas\u001b[39;00m err:\n",
      "File \u001b[1;32m~\\NeuralNetworks\\Lib\\site-packages\\pandas\\_libs\\index.pyx:147\u001b[0m, in \u001b[0;36mpandas._libs.index.IndexEngine.get_loc\u001b[1;34m()\u001b[0m\n",
      "File \u001b[1;32m~\\NeuralNetworks\\Lib\\site-packages\\pandas\\_libs\\index.pyx:176\u001b[0m, in \u001b[0;36mpandas._libs.index.IndexEngine.get_loc\u001b[1;34m()\u001b[0m\n",
      "File \u001b[1;32mpandas\\_libs\\hashtable_class_helper.pxi:7080\u001b[0m, in \u001b[0;36mpandas._libs.hashtable.PyObjectHashTable.get_item\u001b[1;34m()\u001b[0m\n",
      "File \u001b[1;32mpandas\\_libs\\hashtable_class_helper.pxi:7088\u001b[0m, in \u001b[0;36mpandas._libs.hashtable.PyObjectHashTable.get_item\u001b[1;34m()\u001b[0m\n",
      "\u001b[1;31mKeyError\u001b[0m: 'население'",
      "\nThe above exception was the direct cause of the following exception:\n",
      "\u001b[1;31mKeyError\u001b[0m                                  Traceback (most recent call last)",
      "Cell \u001b[1;32mIn[7], line 1\u001b[0m\n\u001b[1;32m----> 1\u001b[0m logarithmicData \u001b[38;5;241m=\u001b[39m np\u001b[38;5;241m.\u001b[39mlog10(\u001b[43mdata\u001b[49m\u001b[43m[\u001b[49m\u001b[38;5;124;43m'\u001b[39;49m\u001b[38;5;124;43mнаселение\u001b[39;49m\u001b[38;5;124;43m'\u001b[39;49m\u001b[43m]\u001b[49m)\n\u001b[0;32m      2\u001b[0m bins \u001b[38;5;241m=\u001b[39m \u001b[38;5;241m30\u001b[39m\n\u001b[0;32m      3\u001b[0m counts, bins \u001b[38;5;241m=\u001b[39m np\u001b[38;5;241m.\u001b[39mhistogram(logarithmicData, bins\u001b[38;5;241m=\u001b[39mbins) \u001b[38;5;66;03m# ruleOf3std - правило 3 сигм, убирает из вывода переменные, выходящие за рамки правила\u001b[39;00m\n",
      "File \u001b[1;32m~\\NeuralNetworks\\Lib\\site-packages\\pandas\\core\\frame.py:3761\u001b[0m, in \u001b[0;36mDataFrame.__getitem__\u001b[1;34m(self, key)\u001b[0m\n\u001b[0;32m   3759\u001b[0m \u001b[38;5;28;01mif\u001b[39;00m \u001b[38;5;28mself\u001b[39m\u001b[38;5;241m.\u001b[39mcolumns\u001b[38;5;241m.\u001b[39mnlevels \u001b[38;5;241m>\u001b[39m \u001b[38;5;241m1\u001b[39m:\n\u001b[0;32m   3760\u001b[0m     \u001b[38;5;28;01mreturn\u001b[39;00m \u001b[38;5;28mself\u001b[39m\u001b[38;5;241m.\u001b[39m_getitem_multilevel(key)\n\u001b[1;32m-> 3761\u001b[0m indexer \u001b[38;5;241m=\u001b[39m \u001b[38;5;28;43mself\u001b[39;49m\u001b[38;5;241;43m.\u001b[39;49m\u001b[43mcolumns\u001b[49m\u001b[38;5;241;43m.\u001b[39;49m\u001b[43mget_loc\u001b[49m\u001b[43m(\u001b[49m\u001b[43mkey\u001b[49m\u001b[43m)\u001b[49m\n\u001b[0;32m   3762\u001b[0m \u001b[38;5;28;01mif\u001b[39;00m is_integer(indexer):\n\u001b[0;32m   3763\u001b[0m     indexer \u001b[38;5;241m=\u001b[39m [indexer]\n",
      "File \u001b[1;32m~\\NeuralNetworks\\Lib\\site-packages\\pandas\\core\\indexes\\base.py:3654\u001b[0m, in \u001b[0;36mIndex.get_loc\u001b[1;34m(self, key)\u001b[0m\n\u001b[0;32m   3652\u001b[0m     \u001b[38;5;28;01mreturn\u001b[39;00m \u001b[38;5;28mself\u001b[39m\u001b[38;5;241m.\u001b[39m_engine\u001b[38;5;241m.\u001b[39mget_loc(casted_key)\n\u001b[0;32m   3653\u001b[0m \u001b[38;5;28;01mexcept\u001b[39;00m \u001b[38;5;167;01mKeyError\u001b[39;00m \u001b[38;5;28;01mas\u001b[39;00m err:\n\u001b[1;32m-> 3654\u001b[0m     \u001b[38;5;28;01mraise\u001b[39;00m \u001b[38;5;167;01mKeyError\u001b[39;00m(key) \u001b[38;5;28;01mfrom\u001b[39;00m \u001b[38;5;21;01merr\u001b[39;00m\n\u001b[0;32m   3655\u001b[0m \u001b[38;5;28;01mexcept\u001b[39;00m \u001b[38;5;167;01mTypeError\u001b[39;00m:\n\u001b[0;32m   3656\u001b[0m     \u001b[38;5;66;03m# If we have a listlike key, _check_indexing_error will raise\u001b[39;00m\n\u001b[0;32m   3657\u001b[0m     \u001b[38;5;66;03m#  InvalidIndexError. Otherwise we fall through and re-raise\u001b[39;00m\n\u001b[0;32m   3658\u001b[0m     \u001b[38;5;66;03m#  the TypeError.\u001b[39;00m\n\u001b[0;32m   3659\u001b[0m     \u001b[38;5;28mself\u001b[39m\u001b[38;5;241m.\u001b[39m_check_indexing_error(key)\n",
      "\u001b[1;31mKeyError\u001b[0m: 'население'"
     ]
    }
   ],
   "source": [
    "logarithmicData = np.log10(data['население'])\n",
    "bins = 30\n",
    "counts, bins = np.histogram(logarithmicData, bins=bins) # ruleOf3std - правило 3 сигм, убирает из вывода переменные, выходящие за рамки правила\n",
    "plt.hist(bins[:-1], bins, weights=counts)\n",
    "plt.grid(True)\n",
    "plt.show()"
   ]
  },
  {
   "cell_type": "code",
   "execution_count": 7,
   "id": "5d0fbf3a",
   "metadata": {},
   "outputs": [
    {
     "data": {
      "text/plain": [
       "count    1004.000000\n",
       "mean        1.319556\n",
       "std         0.515877\n",
       "min        -1.000000\n",
       "25%         1.029384\n",
       "50%         1.284429\n",
       "75%         1.579495\n",
       "max         3.702947\n",
       "Name: население, dtype: float64"
      ]
     },
     "execution_count": 7,
     "metadata": {},
     "output_type": "execute_result"
    }
   ],
   "source": [
    "logarithmicData.describe()"
   ]
  },
  {
   "cell_type": "code",
   "execution_count": 9,
   "id": "0ac6887e",
   "metadata": {},
   "outputs": [
    {
     "data": {
      "text/plain": [
       "ShapiroResult(statistic=0.9746663570404053, pvalue=3.1486824866172602e-12)"
      ]
     },
     "execution_count": 9,
     "metadata": {},
     "output_type": "execute_result"
    }
   ],
   "source": [
    "scipy.stats.shapiro(logarithmicData)"
   ]
  },
  {
   "cell_type": "markdown",
   "id": "ef5f43a8",
   "metadata": {},
   "source": [
    "### p-value меньше уровня значимости 0,05\n",
    "## отклоняем гипотезу о нормальности прологарифмированной выборки"
   ]
  }
 ],
 "metadata": {
  "kernelspec": {
   "display_name": "Python 3 (ipykernel)",
   "language": "python",
   "name": "python3"
  },
  "language_info": {
   "codemirror_mode": {
    "name": "ipython",
    "version": 3
   },
   "file_extension": ".py",
   "mimetype": "text/x-python",
   "name": "python",
   "nbconvert_exporter": "python",
   "pygments_lexer": "ipython3",
   "version": "3.11.1"
  }
 },
 "nbformat": 4,
 "nbformat_minor": 5
}
