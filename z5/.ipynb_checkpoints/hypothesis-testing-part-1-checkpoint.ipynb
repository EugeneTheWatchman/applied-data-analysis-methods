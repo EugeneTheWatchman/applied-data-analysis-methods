{
 "cells": [
  {
   "cell_type": "code",
   "execution_count": 1,
   "id": "0d59bca1",
   "metadata": {},
   "outputs": [
    {
     "ename": "ModuleNotFoundError",
     "evalue": "No module named 'scipy'",
     "output_type": "error",
     "traceback": [
      "\u001b[1;31m---------------------------------------------------------------------------\u001b[0m",
      "\u001b[1;31mModuleNotFoundError\u001b[0m                       Traceback (most recent call last)",
      "Cell \u001b[1;32mIn[1], line 4\u001b[0m\n\u001b[0;32m      2\u001b[0m \u001b[38;5;28;01mimport\u001b[39;00m \u001b[38;5;21;01mnumpy\u001b[39;00m \u001b[38;5;28;01mas\u001b[39;00m \u001b[38;5;21;01mnp\u001b[39;00m\n\u001b[0;32m      3\u001b[0m \u001b[38;5;28;01mfrom\u001b[39;00m \u001b[38;5;21;01mmatplotlib\u001b[39;00m \u001b[38;5;28;01mimport\u001b[39;00m pyplot \u001b[38;5;28;01mas\u001b[39;00m plt\n\u001b[1;32m----> 4\u001b[0m \u001b[38;5;28;01mimport\u001b[39;00m \u001b[38;5;21;01mscipy\u001b[39;00m\n",
      "\u001b[1;31mModuleNotFoundError\u001b[0m: No module named 'scipy'"
     ]
    }
   ],
   "source": [
    "import pandas as pd\n",
    "import numpy as np\n",
    "from matplotlib import pyplot as plt\n",
    "import scipy"
   ]
  },
  {
   "cell_type": "code",
   "execution_count": null,
   "id": "4ccfeb03",
   "metadata": {},
   "outputs": [],
   "source": [
    "path = r'town_1959_2.csv'\n",
    "data = pd.read_csv(path, encoding = 'cp1251')"
   ]
  },
  {
   "cell_type": "code",
   "execution_count": null,
   "id": "2da0c092",
   "metadata": {
    "scrolled": true
   },
   "outputs": [],
   "source": [
    "data.head()"
   ]
  },
  {
   "cell_type": "code",
   "execution_count": null,
   "id": "713581da",
   "metadata": {},
   "outputs": [],
   "source": [
    "def ruleOf3std(series : pd.Series):\n",
    "    std = series.std()\n",
    "    mean = series.mean()\n",
    "    #range = [mean - 3*std, mean + 3*std] # not usable\n",
    "    mask = series < (std * 9 + mean)\n",
    "    return series[mask]"
   ]
  },
  {
   "cell_type": "code",
   "execution_count": null,
   "id": "6919f6a8",
   "metadata": {},
   "outputs": [],
   "source": [
    "bins = 20\n",
    "counts, bins = np.histogram(ruleOf3std(data['население']), bins=bins) # ruleOf3std - правило 3 сигм, убирает из вывода переменные, выходящие за рамки правила\n",
    "plt.hist(bins[:-1], bins, weights=counts)\n",
    "plt.grid(True)\n",
    "plt.show()"
   ]
  },
  {
   "cell_type": "code",
   "execution_count": null,
   "id": "4a70c441",
   "metadata": {
    "scrolled": false
   },
   "outputs": [],
   "source": [
    "logarithmicData = np.log10(data['население'])\n",
    "bins = 30\n",
    "counts, bins = np.histogram(logarithmicData, bins=bins) # ruleOf3std - правило 3 сигм, убирает из вывода переменные, выходящие за рамки правила\n",
    "plt.hist(bins[:-1], bins, weights=counts)\n",
    "plt.grid(True)\n",
    "plt.show()"
   ]
  },
  {
   "cell_type": "code",
   "execution_count": null,
   "id": "5d0fbf3a",
   "metadata": {},
   "outputs": [],
   "source": [
    "logarithmicData.describe()"
   ]
  },
  {
   "cell_type": "code",
   "execution_count": null,
   "id": "0ac6887e",
   "metadata": {},
   "outputs": [],
   "source": [
    "scipy.stats.shapiro(logarithmicData)"
   ]
  },
  {
   "cell_type": "markdown",
   "id": "ef5f43a8",
   "metadata": {},
   "source": [
    "### p-value меньше уровня значимости 0,05\n",
    "## отклоняем гипотезу о нормальности прологарифмированной выборки"
   ]
  }
 ],
 "metadata": {
  "kernelspec": {
   "display_name": "Python 3 (ipykernel)",
   "language": "python",
   "name": "python3"
  },
  "language_info": {
   "codemirror_mode": {
    "name": "ipython",
    "version": 3
   },
   "file_extension": ".py",
   "mimetype": "text/x-python",
   "name": "python",
   "nbconvert_exporter": "python",
   "pygments_lexer": "ipython3",
   "version": "3.10.5"
  }
 },
 "nbformat": 4,
 "nbformat_minor": 5
}
