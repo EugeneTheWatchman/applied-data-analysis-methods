{
 "cells": [
  {
   "cell_type": "code",
   "execution_count": 1,
   "id": "0d59bca1",
   "metadata": {},
   "outputs": [],
   "source": [
    "import pandas as pd\n",
    "import numpy as np\n",
    "from matplotlib import pyplot as plt\n",
    "import scipy"
   ]
  },
  {
   "cell_type": "code",
   "execution_count": 2,
   "id": "4ccfeb03",
   "metadata": {},
   "outputs": [],
   "source": [
    "path = r'Albuquerque Home Prices_data.txt'\n",
    "data = pd.read_csv(path, sep = '\\t')\n",
    "data.replace(to_replace = -9999, value = np.nan, inplace = True)"
   ]
  },
  {
   "cell_type": "code",
   "execution_count": 3,
   "id": "5d0fbf3a",
   "metadata": {
    "scrolled": true
   },
   "outputs": [
    {
     "data": {
      "text/html": [
       "<div>\n",
       "<style scoped>\n",
       "    .dataframe tbody tr th:only-of-type {\n",
       "        vertical-align: middle;\n",
       "    }\n",
       "\n",
       "    .dataframe tbody tr th {\n",
       "        vertical-align: top;\n",
       "    }\n",
       "\n",
       "    .dataframe thead th {\n",
       "        text-align: right;\n",
       "    }\n",
       "</style>\n",
       "<table border=\"1\" class=\"dataframe\">\n",
       "  <thead>\n",
       "    <tr style=\"text-align: right;\">\n",
       "      <th></th>\n",
       "      <th>PRICE</th>\n",
       "      <th>SQFT</th>\n",
       "      <th>AGE</th>\n",
       "      <th>FEATS</th>\n",
       "      <th>NE</th>\n",
       "      <th>CUST</th>\n",
       "      <th>COR</th>\n",
       "      <th>TAX</th>\n",
       "    </tr>\n",
       "  </thead>\n",
       "  <tbody>\n",
       "    <tr>\n",
       "      <th>count</th>\n",
       "      <td>117.000000</td>\n",
       "      <td>117.000000</td>\n",
       "      <td>68.000000</td>\n",
       "      <td>117.000000</td>\n",
       "      <td>117.000000</td>\n",
       "      <td>117.000000</td>\n",
       "      <td>117.000000</td>\n",
       "      <td>107.000000</td>\n",
       "    </tr>\n",
       "    <tr>\n",
       "      <th>mean</th>\n",
       "      <td>1062.735043</td>\n",
       "      <td>1653.854701</td>\n",
       "      <td>14.970588</td>\n",
       "      <td>3.529915</td>\n",
       "      <td>0.666667</td>\n",
       "      <td>0.230769</td>\n",
       "      <td>0.188034</td>\n",
       "      <td>793.485981</td>\n",
       "    </tr>\n",
       "    <tr>\n",
       "      <th>std</th>\n",
       "      <td>380.436985</td>\n",
       "      <td>523.722802</td>\n",
       "      <td>12.669119</td>\n",
       "      <td>1.405486</td>\n",
       "      <td>0.473432</td>\n",
       "      <td>0.423137</td>\n",
       "      <td>0.392420</td>\n",
       "      <td>308.180276</td>\n",
       "    </tr>\n",
       "    <tr>\n",
       "      <th>min</th>\n",
       "      <td>540.000000</td>\n",
       "      <td>837.000000</td>\n",
       "      <td>1.000000</td>\n",
       "      <td>0.000000</td>\n",
       "      <td>0.000000</td>\n",
       "      <td>0.000000</td>\n",
       "      <td>0.000000</td>\n",
       "      <td>223.000000</td>\n",
       "    </tr>\n",
       "    <tr>\n",
       "      <th>25%</th>\n",
       "      <td>780.000000</td>\n",
       "      <td>1280.000000</td>\n",
       "      <td>5.750000</td>\n",
       "      <td>3.000000</td>\n",
       "      <td>0.000000</td>\n",
       "      <td>0.000000</td>\n",
       "      <td>0.000000</td>\n",
       "      <td>600.000000</td>\n",
       "    </tr>\n",
       "    <tr>\n",
       "      <th>50%</th>\n",
       "      <td>960.000000</td>\n",
       "      <td>1549.000000</td>\n",
       "      <td>13.000000</td>\n",
       "      <td>4.000000</td>\n",
       "      <td>1.000000</td>\n",
       "      <td>0.000000</td>\n",
       "      <td>0.000000</td>\n",
       "      <td>731.000000</td>\n",
       "    </tr>\n",
       "    <tr>\n",
       "      <th>75%</th>\n",
       "      <td>1200.000000</td>\n",
       "      <td>1894.000000</td>\n",
       "      <td>19.250000</td>\n",
       "      <td>4.000000</td>\n",
       "      <td>1.000000</td>\n",
       "      <td>0.000000</td>\n",
       "      <td>0.000000</td>\n",
       "      <td>919.000000</td>\n",
       "    </tr>\n",
       "    <tr>\n",
       "      <th>max</th>\n",
       "      <td>2150.000000</td>\n",
       "      <td>3750.000000</td>\n",
       "      <td>53.000000</td>\n",
       "      <td>8.000000</td>\n",
       "      <td>1.000000</td>\n",
       "      <td>1.000000</td>\n",
       "      <td>1.000000</td>\n",
       "      <td>1765.000000</td>\n",
       "    </tr>\n",
       "  </tbody>\n",
       "</table>\n",
       "</div>"
      ],
      "text/plain": [
       "             PRICE         SQFT        AGE       FEATS          NE  \\\n",
       "count   117.000000   117.000000  68.000000  117.000000  117.000000   \n",
       "mean   1062.735043  1653.854701  14.970588    3.529915    0.666667   \n",
       "std     380.436985   523.722802  12.669119    1.405486    0.473432   \n",
       "min     540.000000   837.000000   1.000000    0.000000    0.000000   \n",
       "25%     780.000000  1280.000000   5.750000    3.000000    0.000000   \n",
       "50%     960.000000  1549.000000  13.000000    4.000000    1.000000   \n",
       "75%    1200.000000  1894.000000  19.250000    4.000000    1.000000   \n",
       "max    2150.000000  3750.000000  53.000000    8.000000    1.000000   \n",
       "\n",
       "             CUST         COR          TAX  \n",
       "count  117.000000  117.000000   107.000000  \n",
       "mean     0.230769    0.188034   793.485981  \n",
       "std      0.423137    0.392420   308.180276  \n",
       "min      0.000000    0.000000   223.000000  \n",
       "25%      0.000000    0.000000   600.000000  \n",
       "50%      0.000000    0.000000   731.000000  \n",
       "75%      0.000000    0.000000   919.000000  \n",
       "max      1.000000    1.000000  1765.000000  "
      ]
     },
     "execution_count": 3,
     "metadata": {},
     "output_type": "execute_result"
    }
   ],
   "source": [
    "data.describe()"
   ]
  },
  {
   "cell_type": "code",
   "execution_count": 4,
   "id": "2da0c092",
   "metadata": {
    "scrolled": false
   },
   "outputs": [
    {
     "data": {
      "text/html": [
       "<div>\n",
       "<style scoped>\n",
       "    .dataframe tbody tr th:only-of-type {\n",
       "        vertical-align: middle;\n",
       "    }\n",
       "\n",
       "    .dataframe tbody tr th {\n",
       "        vertical-align: top;\n",
       "    }\n",
       "\n",
       "    .dataframe thead th {\n",
       "        text-align: right;\n",
       "    }\n",
       "</style>\n",
       "<table border=\"1\" class=\"dataframe\">\n",
       "  <thead>\n",
       "    <tr style=\"text-align: right;\">\n",
       "      <th></th>\n",
       "      <th>PRICE</th>\n",
       "      <th>SQFT</th>\n",
       "      <th>AGE</th>\n",
       "      <th>FEATS</th>\n",
       "      <th>NE</th>\n",
       "      <th>CUST</th>\n",
       "      <th>COR</th>\n",
       "      <th>TAX</th>\n",
       "    </tr>\n",
       "  </thead>\n",
       "  <tbody>\n",
       "    <tr>\n",
       "      <th>0</th>\n",
       "      <td>2050</td>\n",
       "      <td>2650</td>\n",
       "      <td>13.0</td>\n",
       "      <td>7</td>\n",
       "      <td>1</td>\n",
       "      <td>1</td>\n",
       "      <td>0</td>\n",
       "      <td>1639.0</td>\n",
       "    </tr>\n",
       "    <tr>\n",
       "      <th>1</th>\n",
       "      <td>2080</td>\n",
       "      <td>2600</td>\n",
       "      <td>NaN</td>\n",
       "      <td>4</td>\n",
       "      <td>1</td>\n",
       "      <td>1</td>\n",
       "      <td>0</td>\n",
       "      <td>1088.0</td>\n",
       "    </tr>\n",
       "    <tr>\n",
       "      <th>2</th>\n",
       "      <td>2150</td>\n",
       "      <td>2664</td>\n",
       "      <td>6.0</td>\n",
       "      <td>5</td>\n",
       "      <td>1</td>\n",
       "      <td>1</td>\n",
       "      <td>0</td>\n",
       "      <td>1193.0</td>\n",
       "    </tr>\n",
       "    <tr>\n",
       "      <th>3</th>\n",
       "      <td>2150</td>\n",
       "      <td>2921</td>\n",
       "      <td>3.0</td>\n",
       "      <td>6</td>\n",
       "      <td>1</td>\n",
       "      <td>1</td>\n",
       "      <td>0</td>\n",
       "      <td>1635.0</td>\n",
       "    </tr>\n",
       "    <tr>\n",
       "      <th>4</th>\n",
       "      <td>1999</td>\n",
       "      <td>2580</td>\n",
       "      <td>4.0</td>\n",
       "      <td>4</td>\n",
       "      <td>1</td>\n",
       "      <td>1</td>\n",
       "      <td>0</td>\n",
       "      <td>1732.0</td>\n",
       "    </tr>\n",
       "  </tbody>\n",
       "</table>\n",
       "</div>"
      ],
      "text/plain": [
       "   PRICE  SQFT   AGE  FEATS  NE  CUST  COR     TAX\n",
       "0   2050  2650  13.0      7   1     1    0  1639.0\n",
       "1   2080  2600   NaN      4   1     1    0  1088.0\n",
       "2   2150  2664   6.0      5   1     1    0  1193.0\n",
       "3   2150  2921   3.0      6   1     1    0  1635.0\n",
       "4   1999  2580   4.0      4   1     1    0  1732.0"
      ]
     },
     "execution_count": 4,
     "metadata": {},
     "output_type": "execute_result"
    }
   ],
   "source": [
    "data.head()"
   ]
  },
  {
   "cell_type": "code",
   "execution_count": 5,
   "id": "ee97c094",
   "metadata": {},
   "outputs": [
    {
     "data": {
      "text/html": [
       "<div>\n",
       "<style scoped>\n",
       "    .dataframe tbody tr th:only-of-type {\n",
       "        vertical-align: middle;\n",
       "    }\n",
       "\n",
       "    .dataframe tbody tr th {\n",
       "        vertical-align: top;\n",
       "    }\n",
       "\n",
       "    .dataframe thead th {\n",
       "        text-align: right;\n",
       "    }\n",
       "</style>\n",
       "<table border=\"1\" class=\"dataframe\">\n",
       "  <thead>\n",
       "    <tr style=\"text-align: right;\">\n",
       "      <th></th>\n",
       "      <th>PRICE</th>\n",
       "      <th>SQFT</th>\n",
       "      <th>AGE</th>\n",
       "      <th>FEATS</th>\n",
       "      <th>NE</th>\n",
       "      <th>CUST</th>\n",
       "      <th>COR</th>\n",
       "      <th>TAX</th>\n",
       "    </tr>\n",
       "  </thead>\n",
       "  <tbody>\n",
       "    <tr>\n",
       "      <th>0</th>\n",
       "      <td>2050</td>\n",
       "      <td>2650</td>\n",
       "      <td>13.0</td>\n",
       "      <td>7</td>\n",
       "      <td>1</td>\n",
       "      <td>1</td>\n",
       "      <td>0</td>\n",
       "      <td>1639.0</td>\n",
       "    </tr>\n",
       "    <tr>\n",
       "      <th>1</th>\n",
       "      <td>2080</td>\n",
       "      <td>2600</td>\n",
       "      <td>NaN</td>\n",
       "      <td>4</td>\n",
       "      <td>1</td>\n",
       "      <td>1</td>\n",
       "      <td>0</td>\n",
       "      <td>1088.0</td>\n",
       "    </tr>\n",
       "    <tr>\n",
       "      <th>2</th>\n",
       "      <td>2150</td>\n",
       "      <td>2664</td>\n",
       "      <td>6.0</td>\n",
       "      <td>5</td>\n",
       "      <td>1</td>\n",
       "      <td>1</td>\n",
       "      <td>0</td>\n",
       "      <td>1193.0</td>\n",
       "    </tr>\n",
       "    <tr>\n",
       "      <th>3</th>\n",
       "      <td>2150</td>\n",
       "      <td>2921</td>\n",
       "      <td>3.0</td>\n",
       "      <td>6</td>\n",
       "      <td>1</td>\n",
       "      <td>1</td>\n",
       "      <td>0</td>\n",
       "      <td>1635.0</td>\n",
       "    </tr>\n",
       "    <tr>\n",
       "      <th>4</th>\n",
       "      <td>1999</td>\n",
       "      <td>2580</td>\n",
       "      <td>4.0</td>\n",
       "      <td>4</td>\n",
       "      <td>1</td>\n",
       "      <td>1</td>\n",
       "      <td>0</td>\n",
       "      <td>1732.0</td>\n",
       "    </tr>\n",
       "  </tbody>\n",
       "</table>\n",
       "</div>"
      ],
      "text/plain": [
       "   PRICE  SQFT   AGE  FEATS  NE  CUST  COR     TAX\n",
       "0   2050  2650  13.0      7   1     1    0  1639.0\n",
       "1   2080  2600   NaN      4   1     1    0  1088.0\n",
       "2   2150  2664   6.0      5   1     1    0  1193.0\n",
       "3   2150  2921   3.0      6   1     1    0  1635.0\n",
       "4   1999  2580   4.0      4   1     1    0  1732.0"
      ]
     },
     "execution_count": 5,
     "metadata": {},
     "output_type": "execute_result"
    }
   ],
   "source": [
    "mask = data['COR'] == 1\n",
    "corner_houses = data[mask]\n",
    "uncorner_houses = data[mask == False]\n",
    "corner_houses.head()\n",
    "uncorner_houses.head()"
   ]
  },
  {
   "cell_type": "code",
   "execution_count": 6,
   "id": "713581da",
   "metadata": {},
   "outputs": [],
   "source": [
    "def ruleOf3std(series : pd.Series):\n",
    "    std = series.std()\n",
    "    mean = series.mean()\n",
    "    #range = [mean - 3*std, mean + 3*std] # not usable\n",
    "    mask = series < (std * 3 + mean)\n",
    "    return series[mask]\n",
    "\n",
    "def plot_hist(dataset, color, isDensity = False):\n",
    "    numberOfBins = int(1 + np.ceil(3.322 * np.log10(len(dataset))) * 3.5)\n",
    "    counts, bins = np.histogram(dataset, numberOfBins, density=isDensity)\n",
    "    ax.hist(bins[:-1], bins, weights=counts, color=color, alpha=0.5, linewidth=0)\n",
    "    ax.hist(bins[:-1], bins, weights=counts, facecolor='None', edgecolor='k', linewidth=0.8, alpha=0.5)"
   ]
  },
  {
   "cell_type": "code",
   "execution_count": 7,
   "id": "6919f6a8",
   "metadata": {},
   "outputs": [
    {
     "data": {
      "image/png": "[encoded data removed]",
      "text/plain": [
       "<Figure size 640x480 with 1 Axes>"
      ]
     },
     "metadata": {},
     "output_type": "display_data"
    }
   ],
   "source": [
    "fig = plt.figure(tight_layout=True)\n",
    "ax = fig.add_subplot()\n",
    "\n",
    "plot_hist(data['PRICE'],'y')\n",
    "plot_hist(uncorner_houses['PRICE'],'r')\n",
    "plot_hist(corner_houses['PRICE'],'b')\n",
    "ax.grid()\n",
    "plt.show()"
   ]
  },
  {
   "cell_type": "code",
   "execution_count": 8,
   "id": "9fa03553",
   "metadata": {},
   "outputs": [
    {
     "data": {
      "image/png": "[encoded data removed]",
      "text/plain": [
       "<Figure size 640x480 with 1 Axes>"
      ]
     },
     "metadata": {},
     "output_type": "display_data"
    }
   ],
   "source": [
    "fig = plt.figure(tight_layout=True)\n",
    "ax = fig.add_subplot()\n",
    "\n",
    "plot_hist((uncorner_houses['PRICE']),'r', True)\n",
    "plot_hist((corner_houses['PRICE']),'b', True)\n",
    "ax.grid()\n",
    "plt.show()"
   ]
  },
  {
   "cell_type": "code",
   "execution_count": 9,
   "id": "4a70c441",
   "metadata": {
    "scrolled": false
   },
   "outputs": [
    {
     "name": "stdout",
     "output_type": "stream",
     "text": [
      "Проверка гипотезы на нормальность, критерий Шапиро-Уилка:\n",
      "1) изначальной выборки: p-value = 4.560646083007214e-09\n",
      "2) неугловой выборки: p-value = 4.322618352148311e-08\n",
      "3) угловой выборки: p-value = 0.06242138147354126\n"
     ]
    }
   ],
   "source": [
    "print('Проверка гипотезы на нормальность, критерий Шапиро-Уилка:'); i = 1\n",
    "print(f'{i}) изначальной выборки: p-value =', scipy.stats.shapiro((data['PRICE'])).pvalue); i += 1\n",
    "print(f'{i}) неугловой выборки: p-value =', scipy.stats.shapiro((uncorner_houses['PRICE'])).pvalue); i += 1\n",
    "print(f'{i}) угловой выборки: p-value =', scipy.stats.shapiro((corner_houses['PRICE'])).pvalue); i += 1"
   ]
  },
  {
   "cell_type": "markdown",
   "id": "ef5f43a8",
   "metadata": {},
   "source": [
    "### p-value меньше уровня значимости 0,05\n",
    "### отклоняем гипотезу о нормальности изначальной и неугловой выборок\n",
    "### для угловой выборки гипотезу о нормальности не отклоняем"
   ]
  },
  {
   "cell_type": "code",
   "execution_count": 10,
   "id": "128aed7c",
   "metadata": {},
   "outputs": [
    {
     "data": {
      "text/plain": [
       "MannwhitneyuResult(statistic=1009.0, pvalue=0.8044081572425339)"
      ]
     },
     "execution_count": 10,
     "metadata": {},
     "output_type": "execute_result"
    }
   ],
   "source": [
    "scipy.stats.mannwhitneyu(corner_houses['PRICE'], uncorner_houses['PRICE'], method='asymptotic')"
   ]
  },
  {
   "cell_type": "markdown",
   "id": "7afb1486",
   "metadata": {},
   "source": [
    "# критерий Манна - Уитни\n",
    "#### Используем двусторонний критерий, поэтому  \n",
    "## H0 - распределения в выборках одинаковы\n",
    "## H1 - распределения в выборках отличаются\n",
    "\n",
    "### p-value = 0.8, отклоняем альтернативную гипотезу "
   ]
  },
  {
   "cell_type": "markdown",
   "id": "4057e127",
   "metadata": {},
   "source": [
    "# Вывод: <i>различия в медианах цен на угловые и неугловые дома носит случайных характер и статистически не значима"
   ]
  },
  {
   "cell_type": "code",
   "execution_count": 12,
   "id": "63948e2e",
   "metadata": {},
   "outputs": [
    {
     "data": {
      "text/plain": [
       "count      95.000000\n",
       "mean     1077.189474\n",
       "std       403.394066\n",
       "min       540.000000\n",
       "25%       789.500000\n",
       "50%       955.000000\n",
       "75%      1217.500000\n",
       "max      2150.000000\n",
       "Name: PRICE, dtype: float64"
      ]
     },
     "execution_count": 12,
     "metadata": {},
     "output_type": "execute_result"
    }
   ],
   "source": [
    "uncorner_houses[\"PRICE\"].describe()"
   ]
  },
  {
   "cell_type": "code",
   "execution_count": 13,
   "id": "085f20ae",
   "metadata": {},
   "outputs": [
    {
     "data": {
      "text/plain": [
       "count      22.000000\n",
       "mean     1000.318182\n",
       "std       257.004055\n",
       "min       699.000000\n",
       "25%       775.750000\n",
       "50%       987.500000\n",
       "75%      1131.750000\n",
       "max      1695.000000\n",
       "Name: PRICE, dtype: float64"
      ]
     },
     "execution_count": 13,
     "metadata": {},
     "output_type": "execute_result"
    }
   ],
   "source": [
    "corner_houses[\"PRICE\"].describe()"
   ]
  }
 ],
 "metadata": {
  "kernelspec": {
   "display_name": "Python 3 (ipykernel)",
   "language": "python",
   "name": "python3"
  },
  "language_info": {
   "codemirror_mode": {
    "name": "ipython",
    "version": 3
   },
   "file_extension": ".py",
   "mimetype": "text/x-python",
   "name": "python",
   "nbconvert_exporter": "python",
   "pygments_lexer": "ipython3",
   "version": "3.11.1"
  }
 },
 "nbformat": 4,
 "nbformat_minor": 5
}
