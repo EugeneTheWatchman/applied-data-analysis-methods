{
 "cells": [
  {
   "cell_type": "code",
   "execution_count": 1,
   "id": "714530da",
   "metadata": {},
   "outputs": [],
   "source": [
    "import pandas as pd\n",
    "import numpy as np\n",
    "import matplotlib.pyplot as plt"
   ]
  },
  {
   "cell_type": "code",
   "execution_count": 2,
   "id": "a349df20",
   "metadata": {},
   "outputs": [],
   "source": [
    "path = r'town_1959_2.csv'\n",
    "\n",
    "townDataset = pd.read_csv(path, encoding = 'cp1251')"
   ]
  },
  {
   "cell_type": "code",
   "execution_count": 3,
   "id": "76e55b9c",
   "metadata": {
    "scrolled": true
   },
   "outputs": [
    {
     "data": {
      "text/html": [
       "<div>\n",
       "<style scoped>\n",
       "    .dataframe tbody tr th:only-of-type {\n",
       "        vertical-align: middle;\n",
       "    }\n",
       "\n",
       "    .dataframe tbody tr th {\n",
       "        vertical-align: top;\n",
       "    }\n",
       "\n",
       "    .dataframe thead th {\n",
       "        text-align: right;\n",
       "    }\n",
       "</style>\n",
       "<table border=\"1\" class=\"dataframe\">\n",
       "  <thead>\n",
       "    <tr style=\"text-align: right;\">\n",
       "      <th></th>\n",
       "      <th>номер</th>\n",
       "      <th>город</th>\n",
       "      <th>население</th>\n",
       "    </tr>\n",
       "  </thead>\n",
       "  <tbody>\n",
       "    <tr>\n",
       "      <th>0</th>\n",
       "      <td>1</td>\n",
       "      <td>Москва</td>\n",
       "      <td>5046.0</td>\n",
       "    </tr>\n",
       "    <tr>\n",
       "      <th>1</th>\n",
       "      <td>2</td>\n",
       "      <td>Санкт-Петербург</td>\n",
       "      <td>3003.0</td>\n",
       "    </tr>\n",
       "    <tr>\n",
       "      <th>2</th>\n",
       "      <td>3</td>\n",
       "      <td>Нижний_Новгород</td>\n",
       "      <td>941.0</td>\n",
       "    </tr>\n",
       "    <tr>\n",
       "      <th>3</th>\n",
       "      <td>4</td>\n",
       "      <td>Новосибирск</td>\n",
       "      <td>885.0</td>\n",
       "    </tr>\n",
       "    <tr>\n",
       "      <th>4</th>\n",
       "      <td>5</td>\n",
       "      <td>Самара</td>\n",
       "      <td>806.0</td>\n",
       "    </tr>\n",
       "  </tbody>\n",
       "</table>\n",
       "</div>"
      ],
      "text/plain": [
       "  номер            город  население\n",
       "0     1           Москва     5046.0\n",
       "1     2  Санкт-Петербург     3003.0\n",
       "2     3  Нижний_Новгород      941.0\n",
       "3     4      Новосибирск      885.0\n",
       "4     5           Самара      806.0"
      ]
     },
     "execution_count": 3,
     "metadata": {},
     "output_type": "execute_result"
    }
   ],
   "source": [
    "townDataset.head()"
   ]
  },
  {
   "cell_type": "code",
   "execution_count": 4,
   "id": "fb39b5e9",
   "metadata": {},
   "outputs": [
    {
     "name": "stdout",
     "output_type": "stream",
     "text": [
      "номер        0\n",
      "город        0\n",
      "население    0\n",
      "dtype: int64\n"
     ]
    }
   ],
   "source": [
    "nulls = townDataset.isnull().sum(axis = 0)\n",
    "print(nulls)"
   ]
  },
  {
   "cell_type": "code",
   "execution_count": 5,
   "id": "423294d1",
   "metadata": {},
   "outputs": [
    {
     "data": {
      "text/html": [
       "<div>\n",
       "<style scoped>\n",
       "    .dataframe tbody tr th:only-of-type {\n",
       "        vertical-align: middle;\n",
       "    }\n",
       "\n",
       "    .dataframe tbody tr th {\n",
       "        vertical-align: top;\n",
       "    }\n",
       "\n",
       "    .dataframe thead th {\n",
       "        text-align: right;\n",
       "    }\n",
       "</style>\n",
       "<table border=\"1\" class=\"dataframe\">\n",
       "  <thead>\n",
       "    <tr style=\"text-align: right;\">\n",
       "      <th></th>\n",
       "      <th>count</th>\n",
       "      <th>mean</th>\n",
       "      <th>std</th>\n",
       "      <th>min</th>\n",
       "      <th>25%</th>\n",
       "      <th>50%</th>\n",
       "      <th>75%</th>\n",
       "      <th>max</th>\n",
       "    </tr>\n",
       "  </thead>\n",
       "  <tbody>\n",
       "    <tr>\n",
       "      <th>население</th>\n",
       "      <td>1004.0</td>\n",
       "      <td>52.925199</td>\n",
       "      <td>204.885662</td>\n",
       "      <td>0.1</td>\n",
       "      <td>10.7</td>\n",
       "      <td>19.25</td>\n",
       "      <td>37.975</td>\n",
       "      <td>5046.0</td>\n",
       "    </tr>\n",
       "  </tbody>\n",
       "</table>\n",
       "</div>"
      ],
      "text/plain": [
       "            count       mean         std  min   25%    50%     75%     max\n",
       "население  1004.0  52.925199  204.885662  0.1  10.7  19.25  37.975  5046.0"
      ]
     },
     "execution_count": 5,
     "metadata": {},
     "output_type": "execute_result"
    }
   ],
   "source": [
    "description = townDataset.describe().T\n",
    "description"
   ]
  },
  {
   "cell_type": "markdown",
   "id": "9645f641",
   "metadata": {},
   "source": [
    "### Описание данных выборки\n",
    "- кол-во данных - 1004\n",
    "- минимальное - 0,1\n",
    "- 1й квартиль -10,7\n",
    "- медиана - 19,25\n",
    "- среднее - 52,93\n",
    "- 3й квартиль - 37,98\n",
    "- максимальное - 5046  \n",
    "- стандартное отклонение - 204,89\n",
    "\n",
    "#### среднее значение больше 3-го квартиля!\n"
   ]
  },
  {
   "cell_type": "code",
   "execution_count": 6,
   "id": "7b7a0e35",
   "metadata": {},
   "outputs": [
    {
     "name": "stdout",
     "output_type": "stream",
     "text": [
      "Процент наблюдений ниже среднего 82.37%\n"
     ]
    }
   ],
   "source": [
    "probability_below_mean = \\\n",
    "    (townDataset[description.index] < description['mean'])\\\n",
    "    .sum()/description['count']\n",
    "print(f'Процент наблюдений ниже среднего',\n",
    "    f'{round(probability_below_mean.values[0]*100,2)}%')"
   ]
  },
  {
   "cell_type": "code",
   "execution_count": 7,
   "id": "f51f6cb7",
   "metadata": {},
   "outputs": [
    {
     "name": "stdout",
     "output_type": "stream",
     "text": [
      "Количество городов не вписывающихся в правило 3 сигм: 7\n",
      "Количество городов не вписывающихся в правило 4 сигм: 4\n",
      "Количество городов не вписывающихся в правило 5 сигм: 2\n",
      "Количество городов не вписывающихся в правило 12 сигм: 2\n",
      "Количество городов не вписывающихся в правило 24 сигм: 1\n",
      "\n",
      "Отсортированный список городов (первые 10 значений):\n"
     ]
    },
    {
     "data": {
      "text/html": [
       "<div>\n",
       "<style scoped>\n",
       "    .dataframe tbody tr th:only-of-type {\n",
       "        vertical-align: middle;\n",
       "    }\n",
       "\n",
       "    .dataframe tbody tr th {\n",
       "        vertical-align: top;\n",
       "    }\n",
       "\n",
       "    .dataframe thead th {\n",
       "        text-align: right;\n",
       "    }\n",
       "</style>\n",
       "<table border=\"1\" class=\"dataframe\">\n",
       "  <thead>\n",
       "    <tr style=\"text-align: right;\">\n",
       "      <th></th>\n",
       "      <th>номер</th>\n",
       "      <th>город</th>\n",
       "      <th>население</th>\n",
       "    </tr>\n",
       "  </thead>\n",
       "  <tbody>\n",
       "    <tr>\n",
       "      <th>0</th>\n",
       "      <td>1</td>\n",
       "      <td>Москва</td>\n",
       "      <td>5046.0</td>\n",
       "    </tr>\n",
       "    <tr>\n",
       "      <th>1</th>\n",
       "      <td>2</td>\n",
       "      <td>Санкт-Петербург</td>\n",
       "      <td>3003.0</td>\n",
       "    </tr>\n",
       "    <tr>\n",
       "      <th>2</th>\n",
       "      <td>3</td>\n",
       "      <td>Нижний_Новгород</td>\n",
       "      <td>941.0</td>\n",
       "    </tr>\n",
       "    <tr>\n",
       "      <th>3</th>\n",
       "      <td>4</td>\n",
       "      <td>Новосибирск</td>\n",
       "      <td>885.0</td>\n",
       "    </tr>\n",
       "    <tr>\n",
       "      <th>4</th>\n",
       "      <td>5</td>\n",
       "      <td>Самара</td>\n",
       "      <td>806.0</td>\n",
       "    </tr>\n",
       "    <tr>\n",
       "      <th>5</th>\n",
       "      <td>6</td>\n",
       "      <td>Екатеринбург</td>\n",
       "      <td>779.0</td>\n",
       "    </tr>\n",
       "    <tr>\n",
       "      <th>6</th>\n",
       "      <td>7</td>\n",
       "      <td>Челябинск</td>\n",
       "      <td>689.0</td>\n",
       "    </tr>\n",
       "    <tr>\n",
       "      <th>7</th>\n",
       "      <td>8</td>\n",
       "      <td>Казань</td>\n",
       "      <td>667.0</td>\n",
       "    </tr>\n",
       "    <tr>\n",
       "      <th>8</th>\n",
       "      <td>9</td>\n",
       "      <td>Пермь</td>\n",
       "      <td>629.0</td>\n",
       "    </tr>\n",
       "    <tr>\n",
       "      <th>9</th>\n",
       "      <td>10</td>\n",
       "      <td>Ростов-на-Дону</td>\n",
       "      <td>600.0</td>\n",
       "    </tr>\n",
       "  </tbody>\n",
       "</table>\n",
       "</div>"
      ],
      "text/plain": [
       "  номер            город  население\n",
       "0     1           Москва     5046.0\n",
       "1     2  Санкт-Петербург     3003.0\n",
       "2     3  Нижний_Новгород      941.0\n",
       "3     4      Новосибирск      885.0\n",
       "4     5           Самара      806.0\n",
       "5     6     Екатеринбург      779.0\n",
       "6     7        Челябинск      689.0\n",
       "7     8           Казань      667.0\n",
       "8     9            Пермь      629.0\n",
       "9    10   Ростов-на-Дону      600.0"
      ]
     },
     "execution_count": 7,
     "metadata": {},
     "output_type": "execute_result"
    }
   ],
   "source": [
    "for i in list(range(3,6)) + list(range(12, 30, 12)): \n",
    "    lower_border = description['mean']-i*description['std']\n",
    "    upper_border = description['mean']+i*description['std']\n",
    "    num = ((townDataset[description.index] > upper_border).sum() + \n",
    "     (townDataset[description.index] < lower_border).sum()).values[0]\n",
    "    if num > 0:\n",
    "        print('Количество городов не вписывающихся в правило', i,\n",
    "              'сигм:', num)\n",
    "_ = sorted(townDataset.values, \n",
    "       key = lambda x: x[2], reverse = True)\n",
    "print('\\nОтсортированный список городов (первые 10 значений):')\n",
    "sortedTownDataset = pd.DataFrame(data = _, columns = townDataset.columns)\n",
    "sortedTownDataset.head(10)"
   ]
  },
  {
   "cell_type": "markdown",
   "id": "b3c777fe",
   "metadata": {},
   "source": [
    "### Исключение выбросов\n",
    "\n",
    "Два города, наиболее сильно отличающихся от выборки: Москва и Санкт-Петербург. Не вписываются в правило 5 и 12 сигм. Признаем их выбросами и исключим из выборки."
   ]
  },
  {
   "cell_type": "code",
   "execution_count": 8,
   "id": "716b8d9d",
   "metadata": {},
   "outputs": [
    {
     "data": {
      "text/html": [
       "<div>\n",
       "<style scoped>\n",
       "    .dataframe tbody tr th:only-of-type {\n",
       "        vertical-align: middle;\n",
       "    }\n",
       "\n",
       "    .dataframe tbody tr th {\n",
       "        vertical-align: top;\n",
       "    }\n",
       "\n",
       "    .dataframe thead th {\n",
       "        text-align: right;\n",
       "    }\n",
       "</style>\n",
       "<table border=\"1\" class=\"dataframe\">\n",
       "  <thead>\n",
       "    <tr style=\"text-align: right;\">\n",
       "      <th></th>\n",
       "      <th>номер</th>\n",
       "      <th>город</th>\n",
       "      <th>население</th>\n",
       "    </tr>\n",
       "  </thead>\n",
       "  <tbody>\n",
       "    <tr>\n",
       "      <th>2</th>\n",
       "      <td>3</td>\n",
       "      <td>Нижний_Новгород</td>\n",
       "      <td>941.0</td>\n",
       "    </tr>\n",
       "    <tr>\n",
       "      <th>3</th>\n",
       "      <td>4</td>\n",
       "      <td>Новосибирск</td>\n",
       "      <td>885.0</td>\n",
       "    </tr>\n",
       "    <tr>\n",
       "      <th>4</th>\n",
       "      <td>5</td>\n",
       "      <td>Самара</td>\n",
       "      <td>806.0</td>\n",
       "    </tr>\n",
       "    <tr>\n",
       "      <th>5</th>\n",
       "      <td>6</td>\n",
       "      <td>Екатеринбург</td>\n",
       "      <td>779.0</td>\n",
       "    </tr>\n",
       "  </tbody>\n",
       "</table>\n",
       "</div>"
      ],
      "text/plain": [
       "  номер            город  население\n",
       "2     3  Нижний_Новгород      941.0\n",
       "3     4      Новосибирск      885.0\n",
       "4     5           Самара      806.0\n",
       "5     6     Екатеринбург      779.0"
      ]
     },
     "execution_count": 8,
     "metadata": {},
     "output_type": "execute_result"
    }
   ],
   "source": [
    "clearedDataSet = sortedTownDataset[2:]\n",
    "clearedDataSet.head(4)"
   ]
  },
  {
   "cell_type": "code",
   "execution_count": 9,
   "id": "d4916c70",
   "metadata": {},
   "outputs": [
    {
     "data": {
      "text/html": [
       "<div>\n",
       "<style scoped>\n",
       "    .dataframe tbody tr th:only-of-type {\n",
       "        vertical-align: middle;\n",
       "    }\n",
       "\n",
       "    .dataframe tbody tr th {\n",
       "        vertical-align: top;\n",
       "    }\n",
       "\n",
       "    .dataframe thead th {\n",
       "        text-align: right;\n",
       "    }\n",
       "</style>\n",
       "<table border=\"1\" class=\"dataframe\">\n",
       "  <thead>\n",
       "    <tr style=\"text-align: right;\">\n",
       "      <th></th>\n",
       "      <th>count</th>\n",
       "      <th>mean</th>\n",
       "      <th>std</th>\n",
       "      <th>min</th>\n",
       "      <th>25%</th>\n",
       "      <th>50%</th>\n",
       "      <th>75%</th>\n",
       "      <th>max</th>\n",
       "    </tr>\n",
       "  </thead>\n",
       "  <tbody>\n",
       "    <tr>\n",
       "      <th>население</th>\n",
       "      <td>1002.0</td>\n",
       "      <td>44.997904</td>\n",
       "      <td>91.645867</td>\n",
       "      <td>0.1</td>\n",
       "      <td>10.7</td>\n",
       "      <td>19.15</td>\n",
       "      <td>37.55</td>\n",
       "      <td>941.0</td>\n",
       "    </tr>\n",
       "  </tbody>\n",
       "</table>\n",
       "</div>"
      ],
      "text/plain": [
       "            count       mean        std  min   25%    50%    75%    max\n",
       "население  1002.0  44.997904  91.645867  0.1  10.7  19.15  37.55  941.0"
      ]
     },
     "execution_count": 9,
     "metadata": {},
     "output_type": "execute_result"
    }
   ],
   "source": [
    "clearedDescription = clearedDataSet.describe().T\n",
    "clearedDescription"
   ]
  },
  {
   "cell_type": "markdown",
   "id": "0ded7670",
   "metadata": {},
   "source": [
    "### Описание данных выборки\n",
    "- кол-во данных - 1002 (1004)\n",
    "- минимальное - 0,1\n",
    "- 1й квартиль - 10,7\n",
    "- медиана - 19,15 (19,25)\n",
    "- среднее - 45, (52,93)\n",
    "- 3й квартиль - 37,55, (37,98)\n",
    "- максимальное - 941, (5046)  \n",
    "- стандартное отклонение - 91,65, (204,89)\n",
    "\n",
    "#### среднее значение всё еще больше 3-го квартиля\n"
   ]
  },
  {
   "cell_type": "code",
   "execution_count": 10,
   "id": "84411599",
   "metadata": {},
   "outputs": [
    {
     "name": "stdout",
     "output_type": "stream",
     "text": [
      "Уменьшение характиристик после отбрасывания к прежним:\n"
     ]
    },
    {
     "data": {
      "text/html": [
       "<div>\n",
       "<style scoped>\n",
       "    .dataframe tbody tr th:only-of-type {\n",
       "        vertical-align: middle;\n",
       "    }\n",
       "\n",
       "    .dataframe tbody tr th {\n",
       "        vertical-align: top;\n",
       "    }\n",
       "\n",
       "    .dataframe thead th {\n",
       "        text-align: right;\n",
       "    }\n",
       "</style>\n",
       "<table border=\"1\" class=\"dataframe\">\n",
       "  <thead>\n",
       "    <tr style=\"text-align: right;\">\n",
       "      <th></th>\n",
       "      <th>count</th>\n",
       "      <th>mean</th>\n",
       "      <th>std</th>\n",
       "      <th>min</th>\n",
       "      <th>25%</th>\n",
       "      <th>50%</th>\n",
       "      <th>75%</th>\n",
       "      <th>max</th>\n",
       "    </tr>\n",
       "  </thead>\n",
       "  <tbody>\n",
       "    <tr>\n",
       "      <th>население</th>\n",
       "      <td>0.199203</td>\n",
       "      <td>14.9783</td>\n",
       "      <td>55.269751</td>\n",
       "      <td>0.0</td>\n",
       "      <td>0.0</td>\n",
       "      <td>0.519481</td>\n",
       "      <td>1.119157</td>\n",
       "      <td>81.351566</td>\n",
       "    </tr>\n",
       "  </tbody>\n",
       "</table>\n",
       "</div>"
      ],
      "text/plain": [
       "              count     mean        std  min  25%       50%       75%   \n",
       "население  0.199203  14.9783  55.269751  0.0  0.0  0.519481  1.119157  \\\n",
       "\n",
       "                 max  \n",
       "население  81.351566  "
      ]
     },
     "execution_count": 10,
     "metadata": {},
     "output_type": "execute_result"
    }
   ],
   "source": [
    "print('Уменьшение характиристик после отбрасывания к прежним:')\n",
    "(1 - clearedDescription/description)*100"
   ]
  },
  {
   "cell_type": "markdown",
   "id": "88559c68",
   "metadata": {},
   "source": [
    "###### После отбрасывания 0.2% наблюдений \n",
    "- среднее арифметическое уменьшилось на 15%\n",
    "- медиана же уменьшилась на 0,5%"
   ]
  },
  {
   "cell_type": "code",
   "execution_count": 11,
   "id": "ef7ab51d",
   "metadata": {},
   "outputs": [
    {
     "data": {
      "image/png": "[encoded data removed]",
      "text/plain": [
       "<Figure size 640x480 with 1 Axes>"
      ]
     },
     "metadata": {},
     "output_type": "display_data"
    }
   ],
   "source": [
    "counts, bins = np.histogram(townDataset[\"население\"], bins = 45)\n",
    "plt.hist(bins[:-1], bins, weights=counts)\n",
    "plt.title('Гистограмма оригинальной выборки')\n",
    "plt.grid()"
   ]
  },
  {
   "cell_type": "code",
   "execution_count": 12,
   "id": "04bf92b8",
   "metadata": {},
   "outputs": [
    {
     "data": {
      "image/png": "[encoded data removed]",
      "text/plain": [
       "<Figure size 640x480 with 1 Axes>"
      ]
     },
     "metadata": {},
     "output_type": "display_data"
    }
   ],
   "source": [
    "counts, bins = np.histogram(np.log10(townDataset[\"население\"]), \n",
    "                            bins = 45)\n",
    "plt.hist(bins[:-1], bins, weights=counts)\n",
    "plt.title('Гистограмма прологарифмированной оригинальной выборки')\n",
    "plt.grid()"
   ]
  },
  {
   "cell_type": "code",
   "execution_count": 13,
   "id": "a254bc62",
   "metadata": {},
   "outputs": [],
   "source": [
    "temp = pd.DataFrame(data=[\n",
    "    townDataset[\"население\"].values,\n",
    "    clearedDataSet['население'].values,\n",
    "    np.log10(townDataset[\"население\"].values),\n",
    "    np.log10(clearedDataSet[\"население\"]).values,\n",
    "    ],\n",
    "    index = ['оригинал','без выбросов',\n",
    "             'прологарифмированный','прологарифмированный без выбросов']).T"
   ]
  },
  {
   "cell_type": "code",
   "execution_count": 14,
   "id": "cd2442d0",
   "metadata": {},
   "outputs": [
    {
     "data": {
      "text/plain": [
       "<Axes: >"
      ]
     },
     "execution_count": 14,
     "metadata": {},
     "output_type": "execute_result"
    },
    {
     "data": {
      "image/png": "[encoded data removed]",
      "text/plain": [
       "<Figure size 640x480 with 1 Axes>"
      ]
     },
     "metadata": {},
     "output_type": "display_data"
    }
   ],
   "source": [
    "temp.iloc[:,[0,1]].boxplot()"
   ]
  },
  {
   "cell_type": "code",
   "execution_count": 15,
   "id": "b8bb6565",
   "metadata": {},
   "outputs": [
    {
     "data": {
      "text/plain": [
       "<Axes: >"
      ]
     },
     "execution_count": 15,
     "metadata": {},
     "output_type": "execute_result"
    },
    {
     "data": {
      "image/png": "[encoded data removed]",
      "text/plain": [
       "<Figure size 640x480 with 1 Axes>"
      ]
     },
     "metadata": {},
     "output_type": "display_data"
    }
   ],
   "source": [
    "temp.iloc[:,[1]].boxplot()"
   ]
  },
  {
   "cell_type": "code",
   "execution_count": 16,
   "id": "bc48115e",
   "metadata": {},
   "outputs": [
    {
     "data": {
      "text/plain": [
       "<Axes: >"
      ]
     },
     "execution_count": 16,
     "metadata": {},
     "output_type": "execute_result"
    },
    {
     "data": {
      "image/png": "[encoded data removed]",
      "text/plain": [
       "<Figure size 640x480 with 1 Axes>"
      ]
     },
     "metadata": {},
     "output_type": "display_data"
    }
   ],
   "source": [
    "temp.iloc[:,[2,3]].boxplot()"
   ]
  }
 ],
 "metadata": {
  "kernelspec": {
   "display_name": "Python 3 (ipykernel)",
   "language": "python",
   "name": "python3"
  },
  "language_info": {
   "codemirror_mode": {
    "name": "ipython",
    "version": 3
   },
   "file_extension": ".py",
   "mimetype": "text/x-python",
   "name": "python",
   "nbconvert_exporter": "python",
   "pygments_lexer": "ipython3",
   "version": "3.11.1"
  }
 },
 "nbformat": 4,
 "nbformat_minor": 5
}
