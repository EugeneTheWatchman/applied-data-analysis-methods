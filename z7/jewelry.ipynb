{
 "cells": [
  {
   "cell_type": "markdown",
   "id": "2bcef0a4",
   "metadata": {},
   "source": [
    "# Цены на женские золотые кольца с бриллиантами"
   ]
  },
  {
   "cell_type": "markdown",
   "id": "ff91941f",
   "metadata": {},
   "source": [
    "### 1. Импорт библиотек и чтение данных из файла"
   ]
  },
  {
   "cell_type": "code",
   "execution_count": 77,
   "id": "aba8b2e7",
   "metadata": {},
   "outputs": [
    {
     "data": {
      "text/html": [
       "<div>\n",
       "<style scoped>\n",
       "    .dataframe tbody tr th:only-of-type {\n",
       "        vertical-align: middle;\n",
       "    }\n",
       "\n",
       "    .dataframe tbody tr th {\n",
       "        vertical-align: top;\n",
       "    }\n",
       "\n",
       "    .dataframe thead th {\n",
       "        text-align: right;\n",
       "    }\n",
       "</style>\n",
       "<table border=\"1\" class=\"dataframe\">\n",
       "  <thead>\n",
       "    <tr style=\"text-align: right;\">\n",
       "      <th></th>\n",
       "      <th>carat</th>\n",
       "      <th>price</th>\n",
       "    </tr>\n",
       "  </thead>\n",
       "  <tbody>\n",
       "    <tr>\n",
       "      <th>0</th>\n",
       "      <td>0.17</td>\n",
       "      <td>355</td>\n",
       "    </tr>\n",
       "    <tr>\n",
       "      <th>1</th>\n",
       "      <td>0.16</td>\n",
       "      <td>328</td>\n",
       "    </tr>\n",
       "    <tr>\n",
       "      <th>2</th>\n",
       "      <td>0.17</td>\n",
       "      <td>350</td>\n",
       "    </tr>\n",
       "    <tr>\n",
       "      <th>3</th>\n",
       "      <td>0.18</td>\n",
       "      <td>325</td>\n",
       "    </tr>\n",
       "    <tr>\n",
       "      <th>4</th>\n",
       "      <td>0.25</td>\n",
       "      <td>642</td>\n",
       "    </tr>\n",
       "  </tbody>\n",
       "</table>\n",
       "</div>"
      ],
      "text/plain": [
       "   carat  price\n",
       "0   0.17    355\n",
       "1   0.16    328\n",
       "2   0.17    350\n",
       "3   0.18    325\n",
       "4   0.25    642"
      ]
     },
     "execution_count": 77,
     "metadata": {},
     "output_type": "execute_result"
    }
   ],
   "source": [
    "import numpy as np\n",
    "from sklearn.linear_model import LinearRegression\n",
    "from sklearn.metrics import r2_score\n",
    "import scipy.stats as stats\n",
    "import statsmodels.api as sm\n",
    "import statsmodels\n",
    "import matplotlib.pyplot as plt\n",
    "import pandas as pd\n",
    "\n",
    "df = pd.read_csv(\"diamond.dat\", sep='\\s+', names=['carat', 'price'])\n",
    "df.head()"
   ]
  },
  {
   "cell_type": "markdown",
   "id": "bbaaeb54",
   "metadata": {},
   "source": [
    "### 2. Создание переменных для регрессии: \n",
    " - ### независимых: $X$, $X^2$,  вместе $X$ и $X^2$\n",
    " - ### и засимой: $Y$"
   ]
  },
  {
   "cell_type": "code",
   "execution_count": 14,
   "id": "21a447b7",
   "metadata": {},
   "outputs": [],
   "source": [
    "# Вес бриллианта в каратах\n",
    "X = df['carat'].values.reshape((-1, 1))\n",
    "\n",
    "# Создаем новый признак, возведя вес в квадрат\n",
    "X_squared = X**2\n",
    "\n",
    "# Объединяем исходный вес и его квадрат в одну матрицу признаков\n",
    "X_combined = np.hstack([X, X_squared])\n",
    "\n",
    "# Цена кольца в сингапурских долларах\n",
    "Y = df['price'].values"
   ]
  },
  {
   "cell_type": "markdown",
   "id": "a0562679",
   "metadata": {},
   "source": [
    "### 3. Создание линейной регрессионной модеди \n",
    "#### 3.1 регрессия между $X$ и $Y$\n",
    "      "
   ]
  },
  {
   "cell_type": "code",
   "execution_count": 100,
   "id": "a1242709",
   "metadata": {},
   "outputs": [
    {
     "name": "stdout",
     "output_type": "stream",
     "text": [
      "Предсказанное значение для [1, 0.31], равно 893.9\n",
      "Коэф. детерминации = 0.978\n",
      "Коэф. детерминации с поправкой = 0.978\n"
     ]
    },
    {
     "data": {
      "text/html": [
       "<table class=\"simpletable\">\n",
       "<tr>\n",
       "    <td></td>       <th>coef</th>     <th>std err</th>      <th>t</th>      <th>P>|t|</th>  <th>[0.025</th>    <th>0.975]</th>  \n",
       "</tr>\n",
       "<tr>\n",
       "  <th>const</th> <td> -259.6259</td> <td>   17.319</td> <td>  -14.991</td> <td> 0.000</td> <td> -294.487</td> <td> -224.765</td>\n",
       "</tr>\n",
       "<tr>\n",
       "  <th>x1</th>    <td> 3721.0249</td> <td>   81.786</td> <td>   45.497</td> <td> 0.000</td> <td> 3556.398</td> <td> 3885.651</td>\n",
       "</tr>\n",
       "</table>\n",
       "<table class=\"simpletable\">\n",
       "<tr>\n",
       "  <th>Omnibus:</th>       <td> 0.739</td> <th>  Durbin-Watson:     </th> <td>   1.994</td>\n",
       "</tr>\n",
       "<tr>\n",
       "  <th>Prob(Omnibus):</th> <td> 0.691</td> <th>  Jarque-Bera (JB):  </th> <td>   0.181</td>\n",
       "</tr>\n",
       "<tr>\n",
       "  <th>Skew:</th>          <td> 0.056</td> <th>  Prob(JB):          </th> <td>   0.913</td>\n",
       "</tr>\n",
       "<tr>\n",
       "  <th>Kurtosis:</th>      <td> 3.280</td> <th>  Cond. No.          </th> <td>    18.5</td>\n",
       "</tr>\n",
       "</table><br/><br/>Notes:<br/>[1] Standard Errors assume that the covariance matrix of the errors is correctly specified."
      ],
      "text/latex": [
       "\\begin{center}\n",
       "\\begin{tabular}{lcccccc}\n",
       "\\toprule\n",
       "                        & \\textbf{coef} &        \\textbf{std err}        & \\textbf{t}  \\\\\n",
       "\\midrule\n",
       "\\textbf{const}          &    -259.6259  &              17.319            &   -14.991   \\\\\n",
       "\\textbf{x1}             &    3721.0249  &              81.786            &    45.497   \\\\\n",
       "\\bottomrule\n",
       "\\end{tabular}\n",
       "\\begin{tabular}{lclc}\n",
       "\\textbf{Omnibus:}       &  0.739 & \\textbf{  Durbin-Watson:     } &    1.994  \\\\\n",
       "\\textbf{Prob(Omnibus):} &  0.691 & \\textbf{  Jarque-Bera (JB):  } &    0.181  \\\\\n",
       "\\textbf{Skew:}          &  0.056 & \\textbf{  Prob(JB):          } &    0.913  \\\\\n",
       "\\textbf{Kurtosis:}      &  3.280 & \\textbf{  Cond. No.          } &     18.5  \\\\\n",
       "\\bottomrule\n",
       "\\end{tabular}\n",
       "\\end{center}\n",
       "\n",
       "Notes: \\newline\n",
       " [1] Standard Errors assume that the covariance matrix of the errors is correctly specified."
      ],
      "text/plain": [
       "<class 'statsmodels.iolib.summary.Summary'>\n",
       "\"\"\"\n",
       "==============================================================================\n",
       "                 coef    std err          t      P>|t|      [0.025      0.975]\n",
       "------------------------------------------------------------------------------\n",
       "const       -259.6259     17.319    -14.991      0.000    -294.487    -224.765\n",
       "x1          3721.0249     81.786     45.497      0.000    3556.398    3885.651\n",
       "==============================================================================\n",
       "Omnibus:                        0.739   Durbin-Watson:                   1.994\n",
       "Prob(Omnibus):                  0.691   Jarque-Bera (JB):                0.181\n",
       "Skew:                           0.056   Prob(JB):                        0.913\n",
       "Kurtosis:                       3.280   Cond. No.                         18.5\n",
       "==============================================================================\n",
       "\n",
       "Notes:\n",
       "[1] Standard Errors assume that the covariance matrix of the errors is correctly specified.\n",
       "\"\"\""
      ]
     },
     "execution_count": 100,
     "metadata": {},
     "output_type": "execute_result"
    }
   ],
   "source": [
    "x = sm.add_constant(X)\n",
    "olsmod = sm.OLS(Y, x)\n",
    "olsres = olsmod.fit()\n",
    "predicted_value = olsres.predict(np.array([[1, 0.31]]))\n",
    "print(f'Предсказанное значение для {[1, 0.31]}, равно {predicted_value[0]:.1f}')\n",
    "\n",
    "summary = olsres.summary()\n",
    "print(f'Коэф. детерминации = {summary.tables[0][0].data[3].lstrip(\" \")}')\n",
    "print(f'Коэф. детерминации с поправкой = {summary.tables[0][1].data[3].lstrip(\" \")}')\n",
    "summary.tables = summary.tables[1:]\n",
    "summary"
   ]
  },
  {
   "cell_type": "markdown",
   "id": "078108f3",
   "metadata": {},
   "source": [
    "#### 3.2 регрессия между $X^2$ и $Y$"
   ]
  },
  {
   "cell_type": "code",
   "execution_count": 94,
   "id": "7698f8ff",
   "metadata": {},
   "outputs": [
    {
     "name": "stdout",
     "output_type": "stream",
     "text": [
      "Предсказанное значение для [1, 0.0961]^2, равно 909.8\n",
      "Коэф. детерминации = 0.970\n"
     ]
    },
    {
     "data": {
      "text/html": [
       "<table class=\"simpletable\">\n",
       "<tr>\n",
       "    <td></td>       <th>coef</th>     <th>std err</th>      <th>t</th>      <th>P>|t|</th>  <th>[0.025</th>    <th>0.975]</th>  \n",
       "</tr>\n",
       "<tr>\n",
       "  <th>const</th> <td>  141.6590</td> <td>   10.691</td> <td>   13.250</td> <td> 0.000</td> <td>  120.139</td> <td>  163.179</td>\n",
       "</tr>\n",
       "<tr>\n",
       "  <th>x1</th>    <td> 7993.1081</td> <td>  206.149</td> <td>   38.774</td> <td> 0.000</td> <td> 7578.152</td> <td> 8408.064</td>\n",
       "</tr>\n",
       "</table>\n",
       "<table class=\"simpletable\">\n",
       "<tr>\n",
       "  <th>Omnibus:</th>       <td> 3.754</td> <th>  Durbin-Watson:     </th> <td>   1.888</td>\n",
       "</tr>\n",
       "<tr>\n",
       "  <th>Prob(Omnibus):</th> <td> 0.153</td> <th>  Jarque-Bera (JB):  </th> <td>   2.765</td>\n",
       "</tr>\n",
       "<tr>\n",
       "  <th>Skew:</th>          <td> 0.559</td> <th>  Prob(JB):          </th> <td>   0.251</td>\n",
       "</tr>\n",
       "<tr>\n",
       "  <th>Kurtosis:</th>      <td> 3.361</td> <th>  Cond. No.          </th> <td>    38.5</td>\n",
       "</tr>\n",
       "</table><br/><br/>Notes:<br/>[1] Standard Errors assume that the covariance matrix of the errors is correctly specified."
      ],
      "text/latex": [
       "\\begin{center}\n",
       "\\begin{tabular}{lcccccc}\n",
       "\\toprule\n",
       "                        & \\textbf{coef} &        \\textbf{std err}        & \\textbf{t}  \\\\\n",
       "\\midrule\n",
       "\\textbf{const}          &     141.6590  &              10.691            &    13.250   \\\\\n",
       "\\textbf{x1}             &    7993.1081  &             206.149            &    38.774   \\\\\n",
       "\\bottomrule\n",
       "\\end{tabular}\n",
       "\\begin{tabular}{lclc}\n",
       "\\textbf{Omnibus:}       &  3.754 & \\textbf{  Durbin-Watson:     } &    1.888  \\\\\n",
       "\\textbf{Prob(Omnibus):} &  0.153 & \\textbf{  Jarque-Bera (JB):  } &    2.765  \\\\\n",
       "\\textbf{Skew:}          &  0.559 & \\textbf{  Prob(JB):          } &    0.251  \\\\\n",
       "\\textbf{Kurtosis:}      &  3.361 & \\textbf{  Cond. No.          } &     38.5  \\\\\n",
       "\\bottomrule\n",
       "\\end{tabular}\n",
       "\\end{center}\n",
       "\n",
       "Notes: \\newline\n",
       " [1] Standard Errors assume that the covariance matrix of the errors is correctly specified."
      ],
      "text/plain": [
       "<class 'statsmodels.iolib.summary.Summary'>\n",
       "\"\"\"\n",
       "==============================================================================\n",
       "                 coef    std err          t      P>|t|      [0.025      0.975]\n",
       "------------------------------------------------------------------------------\n",
       "const        141.6590     10.691     13.250      0.000     120.139     163.179\n",
       "x1          7993.1081    206.149     38.774      0.000    7578.152    8408.064\n",
       "==============================================================================\n",
       "Omnibus:                        3.754   Durbin-Watson:                   1.888\n",
       "Prob(Omnibus):                  0.153   Jarque-Bera (JB):                2.765\n",
       "Skew:                           0.559   Prob(JB):                        0.251\n",
       "Kurtosis:                       3.361   Cond. No.                         38.5\n",
       "==============================================================================\n",
       "\n",
       "Notes:\n",
       "[1] Standard Errors assume that the covariance matrix of the errors is correctly specified.\n",
       "\"\"\""
      ]
     },
     "execution_count": 94,
     "metadata": {},
     "output_type": "execute_result"
    }
   ],
   "source": [
    "x = sm.add_constant(X_squared)\n",
    "olsmod = sm.OLS(Y, x)\n",
    "olsres = olsmod.fit()\n",
    "predicted_value = olsres.predict(np.array([[1, 0.31**2]]))\n",
    "print(f'Предсказанное значение для {[1, 0.31**2]}^2, равно {predicted_value[0]:.1f}')\n",
    "\n",
    "summary = olsres.summary()\n",
    "print(f'Коэф. детерминации = {summary.tables[0][0].data[3].lstrip(\" \")}')\n",
    "print(f'Коэф. детерминации с поправкой = {summary.tables[0][1].data[3].lstrip(\" \")}')\n",
    "summary.tables = summary.tables[1:]\n",
    "summary"
   ]
  },
  {
   "cell_type": "markdown",
   "id": "520c7dd7",
   "metadata": {},
   "source": [
    "#### 3.3 регрессия между $(X, X^2)$ и $Y$"
   ]
  },
  {
   "cell_type": "code",
   "execution_count": 101,
   "id": "d4a728aa",
   "metadata": {},
   "outputs": [
    {
     "name": "stdout",
     "output_type": "stream",
     "text": [
      "Предсказанное значение для [1, 0.31, 0.0961], равно 898.3\n",
      "Коэф. детерминации = 0.979\n",
      "Коэф. детерминации с поправкой = 0.978\n"
     ]
    },
    {
     "data": {
      "text/html": [
       "<table class=\"simpletable\">\n",
       "<tr>\n",
       "    <td></td>       <th>coef</th>     <th>std err</th>      <th>t</th>      <th>P>|t|</th>  <th>[0.025</th>    <th>0.975]</th>  \n",
       "</tr>\n",
       "<tr>\n",
       "  <th>const</th> <td> -174.1301</td> <td>   74.238</td> <td>   -2.346</td> <td> 0.023</td> <td> -323.653</td> <td>  -24.607</td>\n",
       "</tr>\n",
       "<tr>\n",
       "  <th>x1</th>    <td> 2920.1306</td> <td>  681.297</td> <td>    4.286</td> <td> 0.000</td> <td> 1547.928</td> <td> 4292.333</td>\n",
       "</tr>\n",
       "<tr>\n",
       "  <th>x2</th>    <td> 1739.9016</td> <td> 1469.472</td> <td>    1.184</td> <td> 0.243</td> <td>-1219.767</td> <td> 4699.570</td>\n",
       "</tr>\n",
       "</table>\n",
       "<table class=\"simpletable\">\n",
       "<tr>\n",
       "  <th>Omnibus:</th>       <td> 1.961</td> <th>  Durbin-Watson:     </th> <td>   1.945</td>\n",
       "</tr>\n",
       "<tr>\n",
       "  <th>Prob(Omnibus):</th> <td> 0.375</td> <th>  Jarque-Bera (JB):  </th> <td>   1.075</td>\n",
       "</tr>\n",
       "<tr>\n",
       "  <th>Skew:</th>          <td> 0.215</td> <th>  Prob(JB):          </th> <td>   0.584</td>\n",
       "</tr>\n",
       "<tr>\n",
       "  <th>Kurtosis:</th>      <td> 3.593</td> <th>  Cond. No.          </th> <td>    362.</td>\n",
       "</tr>\n",
       "</table><br/><br/>Notes:<br/>[1] Standard Errors assume that the covariance matrix of the errors is correctly specified."
      ],
      "text/latex": [
       "\\begin{center}\n",
       "\\begin{tabular}{lcccccc}\n",
       "\\toprule\n",
       "                        & \\textbf{coef} &        \\textbf{std err}        & \\textbf{t}  \\\\\n",
       "\\midrule\n",
       "\\textbf{const}          &    -174.1301  &              74.238            &    -2.346   \\\\\n",
       "\\textbf{x1}             &    2920.1306  &             681.297            &     4.286   \\\\\n",
       "\\textbf{x2}             &    1739.9016  &            1469.472            &     1.184   \\\\\n",
       "\\bottomrule\n",
       "\\end{tabular}\n",
       "\\begin{tabular}{lclc}\n",
       "\\textbf{Omnibus:}       &  1.961 & \\textbf{  Durbin-Watson:     } &    1.945  \\\\\n",
       "\\textbf{Prob(Omnibus):} &  0.375 & \\textbf{  Jarque-Bera (JB):  } &    1.075  \\\\\n",
       "\\textbf{Skew:}          &  0.215 & \\textbf{  Prob(JB):          } &    0.584  \\\\\n",
       "\\textbf{Kurtosis:}      &  3.593 & \\textbf{  Cond. No.          } &     362.  \\\\\n",
       "\\bottomrule\n",
       "\\end{tabular}\n",
       "\\end{center}\n",
       "\n",
       "Notes: \\newline\n",
       " [1] Standard Errors assume that the covariance matrix of the errors is correctly specified."
      ],
      "text/plain": [
       "<class 'statsmodels.iolib.summary.Summary'>\n",
       "\"\"\"\n",
       "==============================================================================\n",
       "                 coef    std err          t      P>|t|      [0.025      0.975]\n",
       "------------------------------------------------------------------------------\n",
       "const       -174.1301     74.238     -2.346      0.023    -323.653     -24.607\n",
       "x1          2920.1306    681.297      4.286      0.000    1547.928    4292.333\n",
       "x2          1739.9016   1469.472      1.184      0.243   -1219.767    4699.570\n",
       "==============================================================================\n",
       "Omnibus:                        1.961   Durbin-Watson:                   1.945\n",
       "Prob(Omnibus):                  0.375   Jarque-Bera (JB):                1.075\n",
       "Skew:                           0.215   Prob(JB):                        0.584\n",
       "Kurtosis:                       3.593   Cond. No.                         362.\n",
       "==============================================================================\n",
       "\n",
       "Notes:\n",
       "[1] Standard Errors assume that the covariance matrix of the errors is correctly specified.\n",
       "\"\"\""
      ]
     },
     "execution_count": 101,
     "metadata": {},
     "output_type": "execute_result"
    }
   ],
   "source": [
    "x = sm.add_constant(X_combined)\n",
    "olsmod = sm.OLS(Y, x)\n",
    "olsres = olsmod.fit()\n",
    "predicted_value = olsres.predict(np.array([[1, 0.31, 0.31**2]]))\n",
    "print(f'Предсказанное значение для {[1, 0.31, 0.31**2]}, равно {predicted_value[0]:.1f}')\n",
    "\n",
    "summary = olsres.summary()\n",
    "print(f'Коэф. детерминации = {summary.tables[0][0].data[3].lstrip(\" \")}')\n",
    "print(f'Коэф. детерминации с поправкой = {summary.tables[0][1].data[3].lstrip(\" \")}')\n",
    "summary.tables = summary.tables[1:]\n",
    "summary"
   ]
  },
  {
   "cell_type": "markdown",
   "id": "28920e0e",
   "metadata": {},
   "source": [
    "### 4. Интерпретация результатов\n",
    "\n",
    "Модель регрессии между $(X, X^2)$ и $Y$ и модель регрессии между $X$ и $Y$ показали одинаковый коэффициент детерминации со штрафом за кол-во независимых переменных, равный 0,978. Однако первая модель имеет коэффициент детерминации 0,979, а вторая - 0,978.  \n",
    "Третья же модель - между $X^2$ и $Y$, показала наихудший результат (коэф. детерминации 0,970)\n",
    "\n",
    "Наиболее качественной моделью является модель регрессии между $X$ и $Y$, т.к. метрика Omnibus более близка к <b>1</b>, что характеризует близость распределения остатков к нормальному.\n",
    "\n",
    "Модель предсказывает, что цена кольца с бриллиантом весом 0,31 карата составит примерно 894 сингапурских долларов."
   ]
  },
  {
   "cell_type": "code",
   "execution_count": null,
   "id": "1318fd39",
   "metadata": {},
   "outputs": [],
   "source": []
  }
 ],
 "metadata": {
  "kernelspec": {
   "display_name": "Python 3 (ipykernel)",
   "language": "python",
   "name": "python3"
  },
  "language_info": {
   "codemirror_mode": {
    "name": "ipython",
    "version": 3
   },
   "file_extension": ".py",
   "mimetype": "text/x-python",
   "name": "python",
   "nbconvert_exporter": "python",
   "pygments_lexer": "ipython3",
   "version": "3.11.1"
  }
 },
 "nbformat": 4,
 "nbformat_minor": 5
}
